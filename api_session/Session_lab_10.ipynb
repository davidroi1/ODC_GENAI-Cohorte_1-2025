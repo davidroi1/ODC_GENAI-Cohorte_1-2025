{
  "cells": [
    {
      "cell_type": "markdown",
      "metadata": {
        "id": "hz9oKtesKnAZ"
      },
      "source": [
        "# API en Python avec FastAPI\n",
        "\n",
        "## Concepts de base de FastAPI\n",
        "\n",
        "FastAPI est un framework web moderne, rapide (hautes performances) pour construire des API avec Python 3.7+.\n",
        "\n",
        "### Concepts clés :\n",
        "1. **Routes/Endpoints** : Points d'entrée de l'API (URLs comme `/items/1`)\n",
        "2. **Méthodes HTTP** : GET, POST, PUT, DELETE, etc.\n",
        "3. **Modèles Pydantic** : Pour la validation des données et la documentation automatique\n",
        "4. **ASGI** : Interface Asynchrone Server Gateway (meilleures performances)\n",
        "5. **OpenAPI** : Standard pour la documentation d'API (anciennement Swagger)\n",
        "\n",
        "### Avantages :\n",
        "- Performances proches de NodeJS et Go grâce à Starlette et Pydantic\n",
        "- Documentation automatique interactive (Swagger UI et ReDoc)\n",
        "- Validation des données intégrée\n",
        "- Support natif de l'asynchrone"
      ]
    },
    {
      "cell_type": "markdown",
      "metadata": {
        "id": "dzY0T924B-ll"
      },
      "source": [
        "## Un exemple pour commencer"
      ]
    },
    {
      "cell_type": "markdown",
      "metadata": {
        "id": "Dxu3awDyKq8X"
      },
      "source": [
        "**Installation de base**\n",
        "\n",
        "```bash\n",
        "pip install \"fastapi[standard]\"\n",
        "```\n",
        "\n",
        "**Exemple**\n",
        "\n",
        "```python\n",
        "from fastapi import FastAPI\n",
        "\n",
        "app = FastAPI()\n",
        "\n",
        "@app.get(\"/\")\n",
        "def read_root():\n",
        "    return {\"message\": \"Bienvenue sur mon API FastAPI\"}\n",
        "```\n",
        "\n",
        "**Lancer le serveur**\n",
        "\n",
        "```bash\n",
        "fastapi dev main.py\n",
        "```"
      ]
    },
    {
      "cell_type": "markdown",
      "metadata": {
        "id": "t9nyst1W0U_3"
      },
      "source": [
        "- Ouvrez votre navigateur à l'adresse http://127.0.0.1:8000\n",
        "- Documentation de l'API interactive automatique (fournie par Swagger UI) est accéssible à http://127.0.0.1:8000/docs."
      ]
    },
    {
      "cell_type": "markdown",
      "metadata": {
        "id": "7-Fp3lKC2gv3"
      },
      "source": [
        "**Récapitulatif, étape par étape**\n",
        "1. importer FastAPI, la classe qui fournit toutes les fonctionnalités pour créer l'API.\n",
        "```python\n",
        "from fastapi import FastAPI\n",
        "```\n",
        "https://www.google.com/\n",
        "\n",
        "https://www.google.com/search?q=IA+GENERATIVE\n",
        "\n",
        "2. créer une instance `app` de FastAPI qui est le point d'interaction principal pour créer toute l'API.\n",
        "```python\n",
        "app = FastAPI()\n",
        "```\n",
        "\n",
        "3. Créer un **endpoint** ou une **route** ou une **opération de chemin** (*path operation*).\n",
        " - un **chemin** (*path*) ici fait référence à la deuxième partie de l'URL à partir du premier `/`. Dans une URL comme : `https://exemple.com/items/foo`, le chemin est : `/items/foo`.\n",
        " - Une **opération** (*operation*) fait ici référence à une des *méthodes* HTTP:\n",
        "    - **GET** : Récupérer des données\n",
        "    - **POST** : Créer des données\n",
        "    - **PUT** : Mettre à jour des données (remplacement complet)\n",
        "    - **PATCH** : Mettre à jour partiellement des données\n",
        "    - **DELETE** : Supprimer des données\n",
        " - Un *décorateur d'opération de chemin* ici `@app.get(\"/\")` indique à FastAPI que la fonction ci-dessous est chargée de gérer les requêtes qui vont vers :\n",
        "    - le chemin `/`\n",
        "    - via une requete `get`\n",
        "\n",
        "  ```python\n",
        "  @app.get(\"/\")\n",
        "  ```\n",
        "\n",
        "4. définir la **fonction d'opération de chemin** ou la **la fonction associée à la route** qui s'exécute lorsque le **endoint** est appelé. Elle sera appelée par FastAPI à chaque fois FastAPI recevra une requête vers l'URL « / » via une opération GET. Dans ce cas, il s'agit d'une fonction asynchrone.\n",
        "```python\n",
        "def read_root():\n",
        "    return {\"message\": \"Bienvenue sur mon API FastAPI\"}\n",
        "```\n",
        "\n",
        "  la fonction peut retourner des modèles Pydantic, un dictionnaire, une liste,"
      ]
    },
    {
      "cell_type": "markdown",
      "metadata": {
        "id": "E3zNw_RkCFri"
      },
      "source": [
        "##  Path Parameters (Paramètres de Chemin)\n",
        "\n"
      ]
    },
    {
      "cell_type": "markdown",
      "metadata": {
        "id": "YD-HlSr6JHQV"
      },
      "source": [
        "Les « paramètres » ou des « variables » de chemin sont définit avec la même syntaxe que celle utilisée par le formatage des chaînes de caractère en Python.\n",
        "\n",
        "La valeur du paramètre de chemin `user_id` sera transmise à la fonction en tant qu'argument `user_id`.\n",
        "\n",
        "```python\n",
        "@app.get(\"/users/{user_id}\")\n",
        "async def read_user(user_id: int):  # Conversion automatique en int\n",
        "    return {\"message\": f\"Le numero du client à obtenir est: {user_id}\"}\n",
        "```\n",
        "\n",
        "> Explications :\n",
        "- Fait partie de l'URL elle-même (`/users/42`)\n",
        "- Obligatoire (erreur 404 si absent)\n",
        "- Conversion et Validation automatique du type (ici `user_id` en int)\n",
        "\n",
        "\n",
        "**NB**: Toute la validation des données est effectuée en arrière-plan par le module `Pydantic`.\n"
      ]
    },
    {
      "cell_type": "markdown",
      "metadata": {
        "id": "jTyCeZEzI7ic"
      },
      "source": [
        "## Query Parameters (Paramètres de Requête)"
      ]
    },
    {
      "cell_type": "markdown",
      "metadata": {
        "id": "vVVaIGlfJQGX"
      },
      "source": [
        "Lorsque d'autres paramètres de fonction sont déclarés et ne font pas partie des *paramètres de chemin*, ils sont automatiquement interprétés comme des **paramètres de requête**.\n",
        "\n",
        "La requête est l'ensemble des paires clé-valeur qui suivent le ? dans une URL, séparées par des caractères &.\n",
        "\n",
        "```python\n",
        "from typing import Optional\n",
        "\n",
        "fake_users_db = [{\"user_name\": \"John\"}, {\"user_name\": \"Doh\"}, {\"user_name\": \"Baz\"}]\n",
        "\n",
        "\n",
        "@app.get(\"/users/\")\n",
        "async def list_users(skip: int = 0, limit: int = 10):\n",
        "    return fake_users_db[skip : skip + limit]\n",
        "```\n",
        "\n",
        "\n",
        "> Explications :\n",
        "- Passés après le `?` dans l'URL (`/users?skip=10&limit=20`)\n",
        "- Optionnels (valeurs par défaut possibles)\n"
      ]
    },
    {
      "cell_type": "markdown",
      "metadata": {
        "id": "xGlmr0MBNxNY"
      },
      "source": [
        "## Request Body (Corps de Requête)"
      ]
    },
    {
      "cell_type": "markdown",
      "metadata": {
        "id": "VIuoOLH9N4Af"
      },
      "source": [
        "\n",
        "```python\n",
        "from pydantic import BaseModel\n",
        "\n",
        "class Users(BaseModel):\n",
        "    name: str\n",
        "    first_name: str\n",
        "    date_of_birth: int\n",
        "    email: Optional[str] = None\n",
        "\n",
        "@app.post(\"/users/\")\n",
        "async def create_users(users: Users):  # Le modèle Pydantic devient le body\n",
        "    item_dict = item.dict()\n",
        "    if item.tax:\n",
        "        total = item.price + item.tax\n",
        "        item_dict.update({\"total\": total})\n",
        "    return item_dict\n",
        "```\n",
        "\n",
        "\n",
        "> Explications :\n",
        "- Données envoyées par le client (généralement en JSON)\n",
        "- Défini avec des modèles Pydantic\n",
        "- Automatiquement parsé et validé\n",
        "- Utilisé pour les opérations POST/PUT/PATCH"
      ]
    },
    {
      "cell_type": "markdown",
      "metadata": {
        "id": "4EE2giA-Bxoh"
      },
      "source": [
        "#### Parameters Validation (Validation des Paramètres)"
      ]
    },
    {
      "cell_type": "markdown",
      "metadata": {
        "id": "aFFb88WAB_uf"
      },
      "source": [
        "```python\n",
        "from fastapi import Query, Path\n",
        "\n",
        "@app.get(\"/items/validated/{user_id}\")\n",
        "async def read_validated_item(\n",
        "    user_id: int = Path(..., title=\"ID de l'article\", gt=0, le=1000),\n",
        "    q: Optional[str] = Query(None, min_length=3, max_length=50, regex=\"^[a-z]+$\"),\n",
        "    size: float = Query(1.0, gt=0, lt=10.5),\n",
        "    importance: int = Body(gt=0)\n",
        "):\n",
        "    return {\"item_id\": user_id, \"q\": q, \"size\": size}\n",
        "```\n",
        "> Explications :\n",
        "- Validation avec `Query()`, `Path()`, `Body()`, ...\n",
        "- Contraintes : `gt` (greater than), `lt` (less than)\n",
        "- Validation de chaînes : `min_length`, `max_length`, `regex`"
      ]
    },
    {
      "cell_type": "code",
      "execution_count": 3,
      "metadata": {},
      "outputs": [
        {
          "data": {
            "text/plain": [
              "True"
            ]
          },
          "execution_count": 3,
          "metadata": {},
          "output_type": "execute_result"
        }
      ],
      "source": [
        "x = 0\n",
        "\n",
        "not bool(x)"
      ]
    },
    {
      "cell_type": "markdown",
      "metadata": {
        "id": "Is4dGulyPi2C"
      },
      "source": [
        "## Tableau Récapitulatif\n",
        "\n",
        "| Concept            | Syntaxe FastAPI                     | Utilisation Typique               | Validation                  |\n",
        "|--------------------|-------------------------------------|-----------------------------------|-----------------------------|\n",
        "| Path Parameter    | `{item_id}` dans l'URL             | Identifiants uniques              | `Path(..., gt=0)`           |\n",
        "| Query Parameter   | `?param=value`                     | Filtrage, pagination              | `Query(None, min_length=3)` |\n",
        "| Request Body      | Modèle Pydantic                    | Création/Mise à jour              | Validation automatique      |\n"
      ]
    },
    {
      "cell_type": "code",
      "execution_count": null,
      "metadata": {
        "id": "pZQ_nEQDJ1Cq"
      },
      "outputs": [],
      "source": []
    }
  ],
  "metadata": {
    "colab": {
      "provenance": []
    },
    "kernelspec": {
      "display_name": ".venv",
      "language": "python",
      "name": "python3"
    },
    "language_info": {
      "codemirror_mode": {
        "name": "ipython",
        "version": 3
      },
      "file_extension": ".py",
      "mimetype": "text/x-python",
      "name": "python",
      "nbconvert_exporter": "python",
      "pygments_lexer": "ipython3",
      "version": "3.12.6"
    }
  },
  "nbformat": 4,
  "nbformat_minor": 0
}
