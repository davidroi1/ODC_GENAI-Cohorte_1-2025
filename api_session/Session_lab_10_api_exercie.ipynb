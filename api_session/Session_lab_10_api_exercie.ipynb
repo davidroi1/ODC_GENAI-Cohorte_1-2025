{
  "cells": [
    {
      "cell_type": "markdown",
      "metadata": {
        "id": "TPDI3TLp0-z6"
      },
      "source": [
        "# API de gestion de commandes simple avec FastAPI et SQLAlchemy.\n",
        "\n",
        "**Objectif de l'exercice :**\n",
        "\n",
        "Créer une API RESTful en utilisant FastAPI et SQLAlchemy pour gérer un système de commande basique. L'API permettra d'effectuer les opérations de base (CRUD - Create, Read, Update, Delete) sur les entités Client, Produit, Commande et Ligne de Commande, en gérant les relations entre elles.\n",
        "\n",
        "**Prérequis :**\n",
        "\n",
        "* Connaissances de base en Python.\n",
        "* Compréhension des concepts des bases de données relationnelles.\n",
        "* Notions de base sur les API REST."
      ]
    },
    {
      "cell_type": "markdown",
      "metadata": {
        "id": "FBZCPhl81Sv7"
      },
      "source": [
        "**Technologies utilisées :**\n",
        "\n",
        "* **FastAPI :** Framework web asynchrone pour construire des APIs rapidement.\n",
        "* **SQLAlchemy :** ORM (Object-Relational Mapper) pour interagir avec la base de données.\n",
        "* **Uvicorn :** Serveur ASGI pour exécuter l'application FastAPI.\n",
        "* **SQLite :** Une base de données simple basée sur un fichier pour faciliter l'exercice (peut être remplacée par PostgreSQL, MySQL, etc., plus tard).\n",
        "* **Pydantic :** Bibliothèque pour la validation des données et la sérialisation (intégrée à FastAPI).\n",
        "\n",
        "\n",
        "**Structure du projet (suggérée) :**\n",
        "\n",
        "```\n",
        "db_management/\n",
        "    ├── main.py             # Point d'entrée de l'application FastAPI contenant les endpoints\n",
        "    ├── database.py         # Configuration de la base de données et de la session SQLAlchemy\n",
        "    ├── models.py           # Définition des modèles SQLAlchemy (tables de la base de données)\n",
        "    ├── schemas.py          # Définition des modèles Pydantic (validation et sérialisation des données)\n",
        "    ├── crud.py             # Fonctions d'interaction avec la base de données (CRUD)\n",
        "\n",
        "```"
      ]
    },
    {
      "cell_type": "markdown",
      "metadata": {
        "id": "l8_Pj3sT3HdF"
      },
      "source": [
        "## Étapes du projet\n",
        "\n"
      ]
    },
    {
      "cell_type": "markdown",
      "metadata": {
        "id": "7Q3bXq7130wZ"
      },
      "source": [
        "#### **Étape 1 : Configuration initiale du projet**\n",
        "\n",
        "1.  Créer un répertoire pour le projet `bd_management`\n",
        "2.  Créer un environnement virtuel : `.venv`\n",
        "3.  Activer l'environnement virtuel\n",
        "4.  Installer les dépendances nécessaires : `fastapi`, `sqlalchemy`, `pydantic`."
      ]
    },
    {
      "cell_type": "markdown",
      "metadata": {
        "id": "ioYnzPp85IJi"
      },
      "source": [
        "#### **Étape 2 : Configuration de la base de données (`database.py`)**\n",
        "\n",
        "Ce fichier contiendra la logique pour la création de la base de données et la gestion des sessions SQLAlchemy.\n",
        "\n",
        "* Utilisez `create_engine` pour créez le moteur SQLAlchemy de connexion avec la bd.\n",
        "* Créez une fonction utilitaire `create_database` qui créérera les différents table dans la base de données."
      ]
    },
    {
      "cell_type": "markdown",
      "metadata": {
        "id": "eyWMVuOZ37Ir"
      },
      "source": [
        "#### **Étape 3 : Définition des modèles SQLAlchemy (`models.py`)**\n",
        "\n",
        "Dans ce fichier, vous allez définir la structure de vos tables de base de données en utilisant l'approche déclarative de SQLAlchemy.\n",
        "\n",
        "* Créez les classes Python `Client`, `Produit`, `Commande`, et `LigneCommande` qui correspondent aux différentes tables de notre base de données.\n",
        "* Faire attention aux différentes relations entre les tables en utilisant:\n",
        "\n",
        "    * Un Client peut avoir plusieurs Commandes (One-to-Many).\n",
        "    * Un Produit peut être présent dans plusieurs Lignes de Commande (One-to-Many).\n",
        "    * Une Commande peut avoir plusieurs Lignes de Commande (One-to-Many).\n",
        "    * Une Ligne de Commande est associée à une seule Commande (Many-to-One).\n",
        "    * Une Ligne de Commande est associée à un seul Produit (Many-to-One).\n"
      ]
    },
    {
      "cell_type": "markdown",
      "metadata": {
        "id": "f9x-5bTq-ak9"
      },
      "source": [
        "#### **Étape 4 : Définition des schémas Pydantic (`schemas.py`)**\n",
        "\n",
        "Ces schémas définiront la structure des données attendues dans les requêtes (pour la validation) et la structure des données renvoyées dans les réponses (pour la sérialisation).\n",
        "\n",
        "* Importez `BaseModel` de `pydantic` et `Optional, List` de `typing`.\n",
        "* Créez une classe de base pour chaque entité (par exemple, `ClientBase` pour la classe ).\n",
        "* Créez des schémas pour la création (`ClientCreate` qui hérite de `ClientBase`) et la lecture (`Client` qui hérite de `ClientBase` et ajoute l'ID et les relations si nécessaire).\n",
        "* Utilisez `Config.orm_mode = True` dans les schémas de lecture pour permettre la conversion automatique des objets SQLAlchemy en modèles Pydantic.\n",
        "* Définissez les schémas pour `Client`, `Produit`, `Commande`, `LigneCommande`, en incluant les relations si pertinent pour les réponses."
      ]
    },
    {
      "cell_type": "markdown",
      "metadata": {
        "id": "p8b8BUgdGzLx"
      },
      "source": [
        "#### **Étape 5 : Implémentation des opérations CRUD (`crud.py`)**\n",
        "\n",
        "Ce fichier contiendra les fonctions Python qui interagissent directement avec la base de données en utilisant SQLAlchemy.\n",
        "Créez des fonctions pour chaque opération CRUD (créer, lire, mettre à jour, supprimer) pour chaque modèle.\n",
        "\n",
        "**Fonctions à implementer (non-exhaustive)**:\n",
        "- **Opérations pour les Clients**\n",
        "  - `create_client(engine: Engine, client: schemas.ClientCreate) -> bool`: # Créer un client\n",
        "  - `get_client(engine: Engine, client_id: int) -> Client`:  # Obtenir un client spécifique\n",
        "  - `get_clients(engine: Engine, skip: int = 0, limit: int = 100) -> list[Client]` # Lister tous les clients (avec pagination). `skip` permet de gérer la pagination.\n",
        "  - `update_client(engine: Engine, client_id: int, client: schemas.ClientUpdate)`:\n",
        "  - `delete_client(engine: Engine, client_id: int)`: # Supprimer un client\n",
        "  - `read_client_commandes(engine: Engine, client_id: int)`: # Lister les commandes d'un client\n",
        "\n",
        " - **Opérations pour les Produits**\n",
        "  - `create_produit(engine: Engine, produit: schemas.Produit) -> bool`: # Créer un produit\n",
        "  - `get_produit(engine: Engine, produit_id: int) -> schemas.Produit`: # Obtenir un produit spécifique\n",
        "  - `get_produits(engine: Engine, skip: int = 0, limit: int = 100) -> list[schemas.Produit]` : # Lister tous les produits\n",
        "  - `delete_produit(engine: Engine, produit_id: int) -> schemas.Produit`:\n",
        "  - `search_produits(engine: Engine, query: str, skip: int = 0, limit: int = 100) -> list[schemas.Produit]`: # Rechercher des produits\n",
        "\n",
        "- **Opérations pour les Commandes**\n",
        "  - `create_commande(engine: Engine, commande: schemas.Commande) -> bool`: # Créer une commande\n",
        "  - `get_commande(engine: Engine, commande_id: int) -> schema.Commande`: # Obtenir une commande spécifique\n",
        "  - `get_commandes(engine: Engine, skip: int = 0, limit: int = 100)`: # Lister toutes les commandes\n",
        "  - `update_commande_statut(engine: Engine, commande_id: int, statut: schemas.CommandeStatutUpdate)`: # Mettre à jour le statut d'une commande\n",
        "\n",
        "- **Opérations pour les Lignes de Commande**\n",
        "  - `create_ligne_commande(engine: Engine, ligne_commande: schemas.LigneCommande)`: # Ajouter une ligne de commande\n",
        "  - `get_ligne_commande(engine: Engine, ligne_commande_id: int) -> schemas.LigneCommande`:\n",
        "  - `get_lignes_commande_by_commande(engine: Engine, commande_id: int) -> list[schemas.LigneCommande]`:\n",
        "  - `update_ligne_commande(engine: Engine, ligne_id: int, ligne: schemas.LigneCommandeUpdate) -> schemas.LigneCommande`: # Mettre à jour une ligne de commande\n",
        "  - `delete_ligne_commande(engine: Engine, ligne_id: int) -> schemas.LigneCommande`: # Supprimer une ligne de commande\n"
      ]
    },
    {
      "cell_type": "markdown",
      "metadata": {
        "id": "7-d-lUnXLKBj"
      },
      "source": [
        "#### **Étape 6 : Création des routeurs de l'API dans le point d'entrée de l'application (`main.py`)**\n",
        "\n",
        "Ce fichier initialisera l'application FastAPI et inclura les endpoints.\n",
        "\n",
        "* Importez `FastAPI`.\n",
        "* Importez la fonction `create_database` et les routeurs.\n",
        "* Importez l'objet de connexion `engine` et les fonctions CRUD.\n",
        "* Importez les schémas Pydantic pertinents.\n",
        "\n",
        "\n",
        "* Créez une instance `app` de `FastAPI`.\n",
        "* créer un endpoint Appelez `create_database()` pour créer les tables au démarrage de l'application (pour un développement simple, pour la production, utilisez des migrations Alembic).\n",
        "* Définissez les différents endpoints en utilisant les décorateurs (`@app.post`, `@app.get`, `@app.put`, `@app.delete`).\n",
        "* Appelez les fonctions CRUD appropriées et retournez les données en utilisant les schémas de réponse.\n",
        "\n",
        "listes non-exhaustives des endpoints:\n",
        "- **Endpoints Clients**: Tous les endpoints doivent avoir le tag `\"CLIENTS\"`\n",
        "  - Créez un endpoint POST `/clients/` qui permet de créer un client\n",
        "  - Créez un endpoint GET `/clients/` qui retourne une liste de tous les clients (avec pagination)\n",
        "  - Créez un endpoint GET `/clients/{client_id}` qui retourne un client spécifique\n",
        "  - Créez un endpoint PUT `/clients/{client_id}` qui permet de mettre à jour un client\n",
        "  - Créez un endpoint DELETE `/clients/{client_id}` qui permet de supprimer un client\n",
        "  - Créez un endpoint GET `/clients/{client_id}/commandes` qui permet de Lister les commandes d'un client\n",
        "\n",
        "- **Endpoints Produits**: tous les endpoints doivent avoir le tag `\"PRODUITS\"`\n",
        "  - Créez un endpoint POST `/produits/` qui permet de créer un produit\n",
        "  - Créez un endpoint GET `/produits/` qui retourne une liste de tous les produits (avec pagination)\n",
        "  - Créez un endpoint GET `/produits/{produit_id}` qui retourne un produits spécifique\n",
        "  - Créez un endpoint PUT `/produits/{produit_id}` qui permet de mettre à jour un produits\n",
        "  - Créez un endpoint DELETE `/produits/{produit_id}` qui permet de supprimer un produits\n",
        "  - Créez un endpoint GET `/produits/search/` qui permet de rechercher des produits\n",
        "\n",
        "- **Endpoints Commandes**: tous les endpoints doivent avoir le tag `\"COMMANDES\"`\n",
        "  - Créez un endpoint POST `/commandes/` qui permet de créer un commande\n",
        "  - Créez un endpoint GET `/commandes/` qui retourne une liste de tous les commandes (avec pagination)\n",
        "  - Créez un endpoint GET `/commandes/{commande_id}` qui retourne une commande spécifique\n",
        "  - Créez un endpoint PATCH `/commandes/{commande_id}/statut` qui permet de mettre à jour le statut d'une commande\n",
        "\n",
        "- **Endpoints Lignes de Commande**:  tous les endpoints doivent avoir le tag `\"LIGNES_COMMANDE\"`\n",
        "  - Créez un endpoint POST `/commandes/{commande_id}/lignes` qui permet de créer une ligne à une commande\n",
        "  - Créez un endpoint PUT `/lignes/{ligne_id}` qui permet de mettre à jour une ligne de commande"
      ]
    },
    {
      "cell_type": "markdown",
      "metadata": {
        "id": "68ey54glnI4Q"
      },
      "source": [
        "#### **Étape 8 : Exécution de l'application et Test de l'API**\n",
        "\n",
        "- Exécutez l'API depuis le répertoire racine de votre projet.\n",
        "- Ouvrez votre navigateur et allez à `http://127.0.0.1:8000/docs` pour voir la documentation interactive de votre API (générée automatiquement par FastAPI).\n",
        "\n",
        "\n",
        "\n",
        "Utilisez la documentation interactive (`/docs`) pour tester les différents points de terminaison :\n",
        "\n",
        "* Créez trois clients.\n",
        "* Créez 5 produits des produits.\n",
        "* Créez 5 commandes en les associant à des clients existant anisi que les lignes de commande correspondantes.\n",
        "* Récupérez les listes de clients, produits, commandes.\n",
        "* Récupérez pour un client, la liste de ses commande à par son numéro client.\n",
        "\n",
        "Faire les questions précedentes en utilisant la bibliothèque `request`."
      ]
    },
    {
      "cell_type": "markdown",
      "metadata": {
        "id": "EaJabTt5qFdJ"
      },
      "source": [
        "# END"
      ]
    }
  ],
  "metadata": {
    "colab": {
      "provenance": []
    },
    "kernelspec": {
      "display_name": "Python 3",
      "name": "python3"
    },
    "language_info": {
      "name": "python"
    }
  },
  "nbformat": 4,
  "nbformat_minor": 0
}
