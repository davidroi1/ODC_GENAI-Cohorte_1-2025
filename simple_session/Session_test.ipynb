{
 "cells": [
  {
   "cell_type": "code",
   "execution_count": 1,
   "metadata": {},
   "outputs": [
    {
     "data": {
      "text/plain": [
       "{'authenticated': True}"
      ]
     },
     "execution_count": 1,
     "metadata": {},
     "output_type": "execute_result"
    }
   ],
   "source": [
    "import requests\n",
    "r = requests.get('https://httpbin.org/basic-auth/user/pass', auth=('user', 'pass'))\n",
    "r.status_code\n",
    "200\n",
    "r.headers['content-type']\n",
    "'application/json; charset=utf8'\n",
    "r.encoding\n",
    "'utf-8'\n",
    "r.text\n",
    "'{\"authenticated\": true, ...'\n",
    "r.json()\n",
    "{'authenticated': True, }"
   ]
  },
  {
   "cell_type": "code",
   "execution_count": 4,
   "metadata": {},
   "outputs": [
    {
     "data": {
      "text/plain": [
       "[{'user_name': 'John'}, {'user_name': 'Doh'}, {'user_name': 'Baz'}]"
      ]
     },
     "execution_count": 4,
     "metadata": {},
     "output_type": "execute_result"
    }
   ],
   "source": [
    "r = requests.get(\"http://127.0.0.1:8000/users\", )\n",
    "r.json()"
   ]
  },
  {
   "cell_type": "code",
   "execution_count": 7,
   "metadata": {},
   "outputs": [
    {
     "data": {
      "text/plain": [
       "{'message': '{\"name\":\"david\",\"first_name\":\"davfocus\",\"date_of_birth\":20,\"email\":\"david@gmail.com\"}'}"
      ]
     },
     "execution_count": 7,
     "metadata": {},
     "output_type": "execute_result"
    }
   ],
   "source": [
    "r = requests.post(\"http://127.0.0.1:8000/users\",\n",
    "                  json={\n",
    "                    \"name\": \"david\",\n",
    "                    \"first_name\": \"davfocus\",\n",
    "                    \"date_of_birth\": 20,\n",
    "                    \"email\": \"david@gmail.com\"})\n",
    "r.json()"
   ]
  }
 ],
 "metadata": {
  "kernelspec": {
   "display_name": "davfocus_env",
   "language": "python",
   "name": "python3"
  },
  "language_info": {
   "codemirror_mode": {
    "name": "ipython",
    "version": 3
   },
   "file_extension": ".py",
   "mimetype": "text/x-python",
   "name": "python",
   "nbconvert_exporter": "python",
   "pygments_lexer": "ipython3",
   "version": "3.9.9"
  },
  "orig_nbformat": 4
 },
 "nbformat": 4,
 "nbformat_minor": 2
}
