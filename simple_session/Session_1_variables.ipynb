{
 "cells": [
  {
   "cell_type": "markdown",
   "metadata": {
    "id": "JA5n4yN9LYLr"
   },
   "source": [
    "## Affectation / création"
   ]
  },
  {
   "cell_type": "markdown",
   "metadata": {
    "id": "LSQ-eWptm3vo"
   },
   "source": [
    "* créer une variable conso contenant la conso de Mr X"
   ]
  },
  {
   "cell_type": "code",
   "execution_count": null,
   "metadata": {
    "id": "e7VIqhFWLenx"
   },
   "outputs": [
    {
     "ename": "",
     "evalue": "",
     "output_type": "error",
     "traceback": [
      "\u001b[1;31mRunning cells with 'davfocus_env (Python 3.12.6)' requires the ipykernel package.\n",
      "\u001b[1;31mInstall 'ipykernel' into the Python environment. \n",
      "\u001b[1;31mCommand: 'c:/Users/DavFocus/desktop/ODC_GENAI-Cohorte_1/davfocus_env/Scripts/python.exe -m pip install ipykernel -U --force-reinstall'"
     ]
    }
   ],
   "source": [
    "# code ici\n",
    "conso = 10000\n"
   ]
  },
  {
   "cell_type": "markdown",
   "metadata": {
    "id": "bT2K5DJinkUi"
   },
   "source": [
    "* créer une varible nom contenant le nom de Mr 'X'"
   ]
  },
  {
   "cell_type": "code",
   "execution_count": null,
   "metadata": {
    "id": "uumQBWvSnxG6"
   },
   "outputs": [],
   "source": [
    "# code ici\n",
    "nom = \"David\""
   ]
  },
  {
   "cell_type": "markdown",
   "metadata": {
    "id": "DkcbzsEDktAU"
   },
   "source": [
    "* créer la variable `taille pour stocker la taille en cm de Mr X"
   ]
  },
  {
   "cell_type": "code",
   "execution_count": null,
   "metadata": {
    "id": "2dHwK5j6lGsc"
   },
   "outputs": [],
   "source": [
    "# code ici\n",
    "taille = 170"
   ]
  },
  {
   "cell_type": "markdown",
   "metadata": {
    "id": "drIcApkjn3jF"
   },
   "source": [
    "* affecter simultanemant les valeurs 12.000 et 'Vicky' aux variables conso et nom"
   ]
  },
  {
   "cell_type": "code",
   "execution_count": null,
   "metadata": {
    "id": "6A2MEYucnzmY"
   },
   "outputs": [],
   "source": [
    "# code ici\n",
    "conso, nom = 12000, \"Vicky\""
   ]
  },
  {
   "cell_type": "markdown",
   "metadata": {
    "id": "1yWB8PJAooCc"
   },
   "source": [
    "* affecter la valeur 12 aux variables a et b"
   ]
  },
  {
   "cell_type": "code",
   "execution_count": null,
   "metadata": {
    "id": "ThL1-Krdo_ZW"
   },
   "outputs": [],
   "source": [
    "# code ici\n",
    "a = b = 12"
   ]
  },
  {
   "cell_type": "markdown",
   "metadata": {
    "id": "bLlo37wUMMNO"
   },
   "source": [
    "## Type"
   ]
  },
  {
   "cell_type": "markdown",
   "metadata": {
    "id": "GoOBRpnGpCzg"
   },
   "source": [
    "type() : retourne le type d'une variable"
   ]
  },
  {
   "cell_type": "markdown",
   "metadata": {
    "id": "l2zfGhTrpLmP"
   },
   "source": [
    "* Renvoyer le type des variables nom et conso"
   ]
  },
  {
   "cell_type": "code",
   "execution_count": null,
   "metadata": {
    "colab": {
     "base_uri": "https://localhost:8080/"
    },
    "executionInfo": {
     "elapsed": 6,
     "status": "ok",
     "timestamp": 1745409146055,
     "user": {
      "displayName": "belia VAGBA",
      "userId": "17343128264632348788"
     },
     "user_tz": 0
    },
    "id": "jnjS_lOgMQFH",
    "outputId": "613ecd8a-9bcf-440e-b967-3f2307c459b2"
   },
   "outputs": [
    {
     "data": {
      "text/plain": [
       "(str, int)"
      ]
     },
     "execution_count": 8,
     "metadata": {},
     "output_type": "execute_result"
    }
   ],
   "source": [
    "# code ici\n",
    "type(nom), type(conso)"
   ]
  },
  {
   "cell_type": "markdown",
   "metadata": {
    "id": "5cIgr7MVLgdo"
   },
   "source": [
    "## Affichage / Output"
   ]
  },
  {
   "cell_type": "markdown",
   "metadata": {
    "id": "538dMIhkpsDH"
   },
   "source": [
    "print() : permet d'afficher les valeurs de variables ou des littéraux."
   ]
  },
  {
   "cell_type": "markdown",
   "metadata": {
    "id": "yc68yYREuIwL"
   },
   "source": [
    "* afficher les types des variables nom et conso"
   ]
  },
  {
   "cell_type": "code",
   "execution_count": null,
   "metadata": {
    "colab": {
     "base_uri": "https://localhost:8080/"
    },
    "executionInfo": {
     "elapsed": 15,
     "status": "ok",
     "timestamp": 1745409196251,
     "user": {
      "displayName": "belia VAGBA",
      "userId": "17343128264632348788"
     },
     "user_tz": 0
    },
    "id": "YhXYqN8iLikY",
    "outputId": "e3f906ae-800f-4dfa-9f66-b889d2ca2f41"
   },
   "outputs": [
    {
     "name": "stdout",
     "output_type": "stream",
     "text": [
      "<class 'str'> <class 'int'>\n"
     ]
    }
   ],
   "source": [
    "# code ici\n",
    "print(type(nom), type(conso))"
   ]
  },
  {
   "cell_type": "code",
   "execution_count": 12,
   "metadata": {
    "executionInfo": {
     "elapsed": 4,
     "status": "ok",
     "timestamp": 1745418574602,
     "user": {
      "displayName": "belia VAGBA",
      "userId": "17343128264632348788"
     },
     "user_tz": 0
    },
    "id": "ADc1PKauq2bV"
   },
   "outputs": [],
   "source": [
    "f = open(\"nombre.txt\", \"w\")\n",
    "print(\"un\", \"deux\", sep='|', end=\" \", file=f)\n",
    "print(\"trois\", \"quatre\", sep='|', file=f)\n",
    "\n",
    "f.close()"
   ]
  },
  {
   "cell_type": "markdown",
   "metadata": {
    "id": "uuIr803dME7M"
   },
   "source": [
    "## Saisie / Input"
   ]
  },
  {
   "cell_type": "markdown",
   "metadata": {
    "id": "VyoC2xAauvjQ"
   },
   "source": [
    "input() : saisir une entrée clavier"
   ]
  },
  {
   "cell_type": "markdown",
   "metadata": {
    "id": "ipWUcSDhuhd8"
   },
   "source": [
    "* Ecrire un script pour saisir le nom d'un client dans la variable nom"
   ]
  },
  {
   "cell_type": "code",
   "execution_count": 1,
   "metadata": {
    "colab": {
     "base_uri": "https://localhost:8080/"
    },
    "executionInfo": {
     "elapsed": 7369,
     "status": "ok",
     "timestamp": 1745418606170,
     "user": {
      "displayName": "belia VAGBA",
      "userId": "17343128264632348788"
     },
     "user_tz": 0
    },
    "id": "gkbR2NmPMZoL",
    "outputId": "74176af4-baec-40db-e7df-cb4063bbe7b2"
   },
   "outputs": [],
   "source": [
    "# code ici\n",
    "userName = input(\"Entrez votre nom : \")"
   ]
  },
  {
   "cell_type": "markdown",
   "metadata": {
    "id": "aGld8dHLgbtr"
   },
   "source": [
    "* afficher la variable nom"
   ]
  },
  {
   "cell_type": "code",
   "execution_count": null,
   "metadata": {
    "colab": {
     "base_uri": "https://localhost:8080/"
    },
    "executionInfo": {
     "elapsed": 14,
     "status": "ok",
     "timestamp": 1745409310822,
     "user": {
      "displayName": "belia VAGBA",
      "userId": "17343128264632348788"
     },
     "user_tz": 0
    },
    "id": "zgRymYUtgeqy",
    "outputId": "96e23e06-5299-4fbe-83db-ef5f421871fc"
   },
   "outputs": [
    {
     "name": "stdout",
     "output_type": "stream",
     "text": [
      "david\n"
     ]
    }
   ],
   "source": [
    "# code ici\n",
    "print(userName)"
   ]
  },
  {
   "cell_type": "markdown",
   "metadata": {
    "id": "pBL97lZNggKJ"
   },
   "source": [
    "* Quel est le type de la variable nom"
   ]
  },
  {
   "cell_type": "code",
   "execution_count": null,
   "metadata": {
    "colab": {
     "base_uri": "https://localhost:8080/"
    },
    "executionInfo": {
     "elapsed": 9,
     "status": "ok",
     "timestamp": 1745409347600,
     "user": {
      "displayName": "belia VAGBA",
      "userId": "17343128264632348788"
     },
     "user_tz": 0
    },
    "id": "3gQKMfQ_gkPI",
    "outputId": "c897d1f4-8dc0-4b84-8f13-c022f16bff6c"
   },
   "outputs": [
    {
     "data": {
      "text/plain": [
       "str"
      ]
     },
     "execution_count": 14,
     "metadata": {},
     "output_type": "execute_result"
    }
   ],
   "source": [
    "# code ici\n",
    "type(userName)"
   ]
  },
  {
   "cell_type": "markdown",
   "metadata": {
    "id": "20A_cIbtutPu"
   },
   "source": [
    "* Ecrire un script pour saisir sa conso dans la variable `conso`"
   ]
  },
  {
   "cell_type": "code",
   "execution_count": null,
   "metadata": {
    "colab": {
     "base_uri": "https://localhost:8080/"
    },
    "executionInfo": {
     "elapsed": 7294,
     "status": "ok",
     "timestamp": 1745409391443,
     "user": {
      "displayName": "belia VAGBA",
      "userId": "17343128264632348788"
     },
     "user_tz": 0
    },
    "id": "ImX5RC3SvD2k",
    "outputId": "3ea9be79-125f-4910-eaf9-c6925d6cde27"
   },
   "outputs": [
    {
     "name": "stdout",
     "output_type": "stream",
     "text": [
      "Entrez votre consommation : 2000\n"
     ]
    }
   ],
   "source": [
    "# code ici\n",
    "conso = input(\"Entrez votre consommation : \")"
   ]
  },
  {
   "cell_type": "markdown",
   "metadata": {
    "id": "W-C6BNhhgA3G"
   },
   "source": [
    "* afficher la variable `conso`"
   ]
  },
  {
   "cell_type": "code",
   "execution_count": null,
   "metadata": {
    "colab": {
     "base_uri": "https://localhost:8080/"
    },
    "executionInfo": {
     "elapsed": 8,
     "status": "ok",
     "timestamp": 1745409406452,
     "user": {
      "displayName": "belia VAGBA",
      "userId": "17343128264632348788"
     },
     "user_tz": 0
    },
    "id": "AMZ-esmygGBT",
    "outputId": "902cbb03-131a-47cf-c95e-57832def494d"
   },
   "outputs": [
    {
     "name": "stdout",
     "output_type": "stream",
     "text": [
      "2000\n"
     ]
    }
   ],
   "source": [
    "# code ici\n",
    "print(conso)"
   ]
  },
  {
   "cell_type": "markdown",
   "metadata": {
    "id": "avIp-7-rgIPn"
   },
   "source": [
    "* afficher le type de la variable `conso`"
   ]
  },
  {
   "cell_type": "code",
   "execution_count": null,
   "metadata": {
    "colab": {
     "base_uri": "https://localhost:8080/"
    },
    "executionInfo": {
     "elapsed": 9,
     "status": "ok",
     "timestamp": 1745409418990,
     "user": {
      "displayName": "belia VAGBA",
      "userId": "17343128264632348788"
     },
     "user_tz": 0
    },
    "id": "ej7eWKEWgmne",
    "outputId": "6c586eb4-e0d7-4eed-c9ea-e759be70cc9c"
   },
   "outputs": [
    {
     "data": {
      "text/plain": [
       "str"
      ]
     },
     "execution_count": 17,
     "metadata": {},
     "output_type": "execute_result"
    }
   ],
   "source": [
    "# code ici\n",
    "type(conso)"
   ]
  },
  {
   "cell_type": "markdown",
   "metadata": {
    "id": "Pmd_3Yy-M-yg"
   },
   "source": [
    "## Conversion\n",
    "\n",
    "nomType(var) : pour convertir *var* en nomType"
   ]
  },
  {
   "cell_type": "markdown",
   "metadata": {
    "id": "X_jd2rKbgw3w"
   },
   "source": [
    "* convertir la variable conso en float"
   ]
  },
  {
   "cell_type": "code",
   "execution_count": null,
   "metadata": {
    "colab": {
     "base_uri": "https://localhost:8080/"
    },
    "executionInfo": {
     "elapsed": 9,
     "status": "ok",
     "timestamp": 1745409453952,
     "user": {
      "displayName": "belia VAGBA",
      "userId": "17343128264632348788"
     },
     "user_tz": 0
    },
    "id": "4Fk-fu2fg6QV",
    "outputId": "2d7e491c-bb6e-4d89-932f-77731f7f8d0f"
   },
   "outputs": [
    {
     "data": {
      "text/plain": [
       "2000.0"
      ]
     },
     "execution_count": 18,
     "metadata": {},
     "output_type": "execute_result"
    }
   ],
   "source": [
    "# code ici\n",
    "float(conso)"
   ]
  },
  {
   "cell_type": "markdown",
   "metadata": {
    "id": "HKjr6GH0g7jC"
   },
   "source": [
    "* convertir la variable nom en float. Que se passe t-il?\n"
   ]
  },
  {
   "cell_type": "code",
   "execution_count": null,
   "metadata": {
    "colab": {
     "base_uri": "https://localhost:8080/",
     "height": 162
    },
    "executionInfo": {
     "elapsed": 14,
     "status": "error",
     "timestamp": 1745409455988,
     "user": {
      "displayName": "belia VAGBA",
      "userId": "17343128264632348788"
     },
     "user_tz": 0
    },
    "id": "DQ59QNtFhFtj",
    "outputId": "78c8a2a1-d91f-44c7-ed04-f05b8f77fca6"
   },
   "outputs": [
    {
     "ename": "ValueError",
     "evalue": "could not convert string to float: 'Vicky'",
     "output_type": "error",
     "traceback": [
      "\u001b[0;31m---------------------------------------------------------------------------\u001b[0m",
      "\u001b[0;31mValueError\u001b[0m                                Traceback (most recent call last)",
      "\u001b[0;32m<ipython-input-19-35d3e4c4b406>\u001b[0m in \u001b[0;36m<cell line: 0>\u001b[0;34m()\u001b[0m\n\u001b[1;32m      1\u001b[0m \u001b[0;31m# code ici\u001b[0m\u001b[0;34m\u001b[0m\u001b[0;34m\u001b[0m\u001b[0m\n\u001b[0;32m----> 2\u001b[0;31m \u001b[0mfloat\u001b[0m\u001b[0;34m(\u001b[0m\u001b[0mnom\u001b[0m\u001b[0;34m)\u001b[0m\u001b[0;34m\u001b[0m\u001b[0;34m\u001b[0m\u001b[0m\n\u001b[0m",
      "\u001b[0;31mValueError\u001b[0m: could not convert string to float: 'Vicky'"
     ]
    }
   ],
   "source": [
    "# code ici\n",
    "float(nom)"
   ]
  },
  {
   "cell_type": "markdown",
   "metadata": {
    "id": "wZ1jO6Khkbmp"
   },
   "source": [
    "* convertir la variable conso en str"
   ]
  },
  {
   "cell_type": "code",
   "execution_count": null,
   "metadata": {
    "colab": {
     "base_uri": "https://localhost:8080/",
     "height": 35
    },
    "executionInfo": {
     "elapsed": 9,
     "status": "ok",
     "timestamp": 1745409482811,
     "user": {
      "displayName": "belia VAGBA",
      "userId": "17343128264632348788"
     },
     "user_tz": 0
    },
    "id": "2GcNyqbekhd-",
    "outputId": "6ccf8388-4d42-409d-8021-e718e7040ad2"
   },
   "outputs": [
    {
     "data": {
      "application/vnd.google.colaboratory.intrinsic+json": {
       "type": "string"
      },
      "text/plain": [
       "'2000'"
      ]
     },
     "execution_count": 20,
     "metadata": {},
     "output_type": "execute_result"
    }
   ],
   "source": [
    "# code ici\n",
    "str(conso)"
   ]
  },
  {
   "cell_type": "markdown",
   "metadata": {
    "id": "-U14F0h5M2vi"
   },
   "source": [
    "## Opérations arithmetiques"
   ]
  },
  {
   "cell_type": "markdown",
   "metadata": {
    "id": "FOAkqYaCvGwv"
   },
   "source": [
    "* faire la moyenne des valeurs suivantes : 4, 5, 8, 10.5"
   ]
  },
  {
   "cell_type": "code",
   "execution_count": null,
   "metadata": {
    "colab": {
     "base_uri": "https://localhost:8080/"
    },
    "executionInfo": {
     "elapsed": 11,
     "status": "ok",
     "timestamp": 1745409594905,
     "user": {
      "displayName": "belia VAGBA",
      "userId": "17343128264632348788"
     },
     "user_tz": 0
    },
    "id": "pPS4a66OM7Pl",
    "outputId": "d93feb20-c82c-4a31-f62b-c78a42287945"
   },
   "outputs": [
    {
     "data": {
      "text/plain": [
       "6.875"
      ]
     },
     "execution_count": 22,
     "metadata": {},
     "output_type": "execute_result"
    }
   ],
   "source": [
    "# code ici\n",
    "listNumer = [4, 5, 8, 10.5]\n",
    "sum(listNumer) / len(listNumer)"
   ]
  },
  {
   "cell_type": "markdown",
   "metadata": {
    "id": "LHURLP7TvRrs"
   },
   "source": [
    "* Ajouter 5200 à la conso"
   ]
  },
  {
   "cell_type": "code",
   "execution_count": null,
   "metadata": {
    "id": "cAxYEp9HvRLK"
   },
   "outputs": [],
   "source": [
    "# code ici\n",
    "conso = int(conso) + 5200"
   ]
  },
  {
   "cell_type": "markdown",
   "metadata": {
    "id": "lzNsATBvvdJ_"
   },
   "source": [
    "* Retirer 200 de la conso"
   ]
  },
  {
   "cell_type": "code",
   "execution_count": null,
   "metadata": {
    "id": "Dg26SLExvYxk"
   },
   "outputs": [],
   "source": [
    "# code ici\n",
    "conso -= 200"
   ]
  },
  {
   "cell_type": "markdown",
   "metadata": {
    "id": "QRdimATKhoW3"
   },
   "source": [
    "* Quel est le reste de la division de ecludienne de conso par 2. Stocker le resultat dans la variable `reste`"
   ]
  },
  {
   "cell_type": "code",
   "execution_count": null,
   "metadata": {
    "id": "BIbvZSYXNBLp"
   },
   "outputs": [],
   "source": [
    "# code ici\n",
    "reste = conso % 2"
   ]
  },
  {
   "cell_type": "markdown",
   "metadata": {
    "id": "kqou9ztZHuJ8"
   },
   "source": [
    "## Opérations de comparaison"
   ]
  },
  {
   "cell_type": "markdown",
   "metadata": {
    "id": "ewMZZhiVIylI"
   },
   "source": [
    "* Est-ce un gros client ?\n",
    "\n",
    "un client est qualifié de \"gros client\" si sa conso est supérieur à 25.000XOF"
   ]
  },
  {
   "cell_type": "code",
   "execution_count": null,
   "metadata": {
    "colab": {
     "base_uri": "https://localhost:8080/"
    },
    "executionInfo": {
     "elapsed": 6,
     "status": "ok",
     "timestamp": 1745409921269,
     "user": {
      "displayName": "belia VAGBA",
      "userId": "17343128264632348788"
     },
     "user_tz": 0
    },
    "id": "-cGZ1r98IctH",
    "outputId": "69719840-3c8a-433a-c59e-352b4d8d9969"
   },
   "outputs": [
    {
     "name": "stdout",
     "output_type": "stream",
     "text": [
      "petit client\n"
     ]
    }
   ],
   "source": [
    "# code ici\n",
    "if conso > 25000:\n",
    "    print(\"gros client\")\n",
    "else:\n",
    "    print(\"petit client\")"
   ]
  },
  {
   "cell_type": "markdown",
   "metadata": {
    "id": "Lf5ZOGLxIdOU"
   },
   "source": [
    "## Opérateurs logiques"
   ]
  },
  {
   "cell_type": "code",
   "execution_count": null,
   "metadata": {
    "colab": {
     "base_uri": "https://localhost:8080/"
    },
    "executionInfo": {
     "elapsed": 426,
     "status": "ok",
     "timestamp": 1640780842240,
     "user": {
      "displayName": "Monsia DOUGBAN",
      "photoUrl": "https://lh3.googleusercontent.com/a/default-user=s64",
      "userId": "10610202925495594720"
     },
     "user_tz": 0
    },
    "id": "1Q8w6qflHyI2",
    "outputId": "19e51b87-043a-44ee-9529-2fa7d38abf67"
   },
   "outputs": [
    {
     "data": {
      "text/plain": [
       "0"
      ]
     },
     "execution_count": 5,
     "metadata": {},
     "output_type": "execute_result"
    }
   ],
   "source": [
    "\"a\" and 0"
   ]
  },
  {
   "cell_type": "code",
   "execution_count": null,
   "metadata": {
    "colab": {
     "base_uri": "https://localhost:8080/",
     "height": 35
    },
    "executionInfo": {
     "elapsed": 31,
     "status": "ok",
     "timestamp": 1640780856158,
     "user": {
      "displayName": "Monsia DOUGBAN",
      "photoUrl": "https://lh3.googleusercontent.com/a/default-user=s64",
      "userId": "10610202925495594720"
     },
     "user_tz": 0
    },
    "id": "Ifce69edKOQ_",
    "outputId": "5d884ae0-c142-4f9c-cb8f-76622a954146"
   },
   "outputs": [
    {
     "data": {
      "application/vnd.google.colaboratory.intrinsic+json": {
       "type": "string"
      },
      "text/plain": [
       "'b'"
      ]
     },
     "execution_count": 6,
     "metadata": {},
     "output_type": "execute_result"
    }
   ],
   "source": [
    "\"a\" and \"b\""
   ]
  },
  {
   "cell_type": "code",
   "execution_count": null,
   "metadata": {
    "colab": {
     "base_uri": "https://localhost:8080/"
    },
    "executionInfo": {
     "elapsed": 451,
     "status": "ok",
     "timestamp": 1640780858111,
     "user": {
      "displayName": "Monsia DOUGBAN",
      "photoUrl": "https://lh3.googleusercontent.com/a/default-user=s64",
      "userId": "10610202925495594720"
     },
     "user_tz": 0
    },
    "id": "0XbeAHiDKNEo",
    "outputId": "45ffa84c-d917-45a6-fce3-011ed6cf6a37"
   },
   "outputs": [
    {
     "data": {
      "text/plain": [
       "True"
      ]
     },
     "execution_count": 7,
     "metadata": {},
     "output_type": "execute_result"
    }
   ],
   "source": [
    "bool(\"a\" and \"b\")"
   ]
  },
  {
   "cell_type": "code",
   "execution_count": null,
   "metadata": {
    "colab": {
     "base_uri": "https://localhost:8080/",
     "height": 35
    },
    "executionInfo": {
     "elapsed": 31,
     "status": "ok",
     "timestamp": 1640780860934,
     "user": {
      "displayName": "Monsia DOUGBAN",
      "photoUrl": "https://lh3.googleusercontent.com/a/default-user=s64",
      "userId": "10610202925495594720"
     },
     "user_tz": 0
    },
    "id": "rZHtDFcsH6Gz",
    "outputId": "c3c4a85b-06c7-4fac-b3fe-ef6f48797ff2"
   },
   "outputs": [
    {
     "data": {
      "application/vnd.google.colaboratory.intrinsic+json": {
       "type": "string"
      },
      "text/plain": [
       "'a'"
      ]
     },
     "execution_count": 8,
     "metadata": {},
     "output_type": "execute_result"
    }
   ],
   "source": [
    "'a' or 0"
   ]
  },
  {
   "cell_type": "code",
   "execution_count": null,
   "metadata": {
    "id": "-gzt6FHaH_x0"
   },
   "outputs": [],
   "source": []
  }
 ],
 "metadata": {
  "colab": {
   "provenance": [
    {
     "file_id": "1MVIZbxQYYPokA5a8QkOHMt6_MLETmOUl",
     "timestamp": 1745408471725
    }
   ]
  },
  "kernelspec": {
   "display_name": "davfocus_env",
   "language": "python",
   "name": "python3"
  },
  "language_info": {
   "codemirror_mode": {
    "name": "ipython",
    "version": 3
   },
   "file_extension": ".py",
   "mimetype": "text/x-python",
   "name": "python",
   "nbconvert_exporter": "python",
   "pygments_lexer": "ipython3",
   "version": "3.12.6"
  }
 },
 "nbformat": 4,
 "nbformat_minor": 0
}
