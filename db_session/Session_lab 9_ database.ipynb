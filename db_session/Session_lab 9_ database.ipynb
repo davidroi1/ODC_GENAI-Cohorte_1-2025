{
 "cells": [
  {
   "cell_type": "markdown",
   "metadata": {
    "id": "RGmDNmBaaEWf"
   },
   "source": [
    "# Python: ineragir avec les base de données avec SQLAlchemy\n",
    "\n",
    "**[SQLAlchemy](https://docs.sqlalchemy.org/en/20/tutorial/index.html#unified-tutorial)** est un ensemble complet d'outils pour travailler avec des bases de données et Python.  \n",
    "\n",
    "Composants Principaux :\n",
    "- **Engine** : Point de connexion à la base de données\n",
    "- **Session** : Zone de travail pour les transactions\n",
    "- **Declarative Base** : Classe de base pour les modèles\n",
    "- **Modèles** : Classes Python représentant des tables\n",
    "- **Relations** : Liens entre modèles (One-to-Many, Many-to-Many)"
   ]
  },
  {
   "cell_type": "markdown",
   "metadata": {
    "id": "5XKRYcWoBbwI"
   },
   "source": [
    "- Installer la bibliothèque SQLAlchemy"
   ]
  },
  {
   "cell_type": "code",
   "execution_count": 1,
   "metadata": {
    "colab": {
     "base_uri": "https://localhost:8080/"
    },
    "executionInfo": {
     "elapsed": 4921,
     "status": "ok",
     "timestamp": 1746547163898,
     "user": {
      "displayName": "Monsia DOUGBAN",
      "userId": "10610202925495594720"
     },
     "user_tz": 0
    },
    "id": "lzWbwVyKQRwe",
    "outputId": "7ced6ff1-4c97-4b48-901f-a59e7112b320"
   },
   "outputs": [
    {
     "name": "stdout",
     "output_type": "stream",
     "text": [
      "Requirement already satisfied: sqlalchemy in c:\\users\\davfocus\\desktop\\odc_genai-cohorte_1\\davfocus_env\\lib\\site-packages (2.0.40)\n",
      "Requirement already satisfied: greenlet>=1 in c:\\users\\davfocus\\desktop\\odc_genai-cohorte_1\\davfocus_env\\lib\\site-packages (from sqlalchemy) (3.2.2)\n",
      "Requirement already satisfied: typing-extensions>=4.6.0 in c:\\users\\davfocus\\desktop\\odc_genai-cohorte_1\\davfocus_env\\lib\\site-packages (from sqlalchemy) (4.13.2)\n"
     ]
    }
   ],
   "source": [
    "# code ici\n",
    "! pip install sqlalchemy"
   ]
  },
  {
   "cell_type": "code",
   "execution_count": null,
   "metadata": {},
   "outputs": [],
   "source": []
  },
  {
   "cell_type": "markdown",
   "metadata": {
    "id": "XW4ATks2B5SH"
   },
   "source": [
    "- Verifier la version de sqlalchemy installée"
   ]
  },
  {
   "cell_type": "code",
   "execution_count": 2,
   "metadata": {
    "colab": {
     "base_uri": "https://localhost:8080/",
     "height": 36
    },
    "executionInfo": {
     "elapsed": 530,
     "status": "ok",
     "timestamp": 1746673074500,
     "user": {
      "displayName": "Monsia DOUGBAN",
      "userId": "10610202925495594720"
     },
     "user_tz": 0
    },
    "id": "I9onpV5vUnXr",
    "outputId": "1e223ba4-93e2-4d5a-cf6e-28a7e0aa11fd"
   },
   "outputs": [
    {
     "data": {
      "text/plain": [
       "'2.0.40'"
      ]
     },
     "execution_count": 2,
     "metadata": {},
     "output_type": "execute_result"
    }
   ],
   "source": [
    "# code ici\n",
    "import sqlalchemy\n",
    "sqlalchemy.__version__"
   ]
  },
  {
   "cell_type": "markdown",
   "metadata": {
    "id": "flWyCy7ECRBS"
   },
   "source": [
    "#### Connexion à une base de données"
   ]
  },
  {
   "cell_type": "markdown",
   "metadata": {
    "id": "uXc_zhREDHeo"
   },
   "source": [
    "- La fonction `create_engine(url)` permet de se connecter à une base de données via une URL de connexion.\n",
    " > La classe **Engine** représente une interface de base pour la base de données, servant de point de départ pour toute interaction.\n",
    "\n",
    " - Importer la fonction `create_engine`de `sqlalchemy`."
   ]
  },
  {
   "cell_type": "code",
   "execution_count": 3,
   "metadata": {
    "id": "NZWNix-sC8O4"
   },
   "outputs": [],
   "source": [
    "from sqlalchemy import create_engine"
   ]
  },
  {
   "cell_type": "markdown",
   "metadata": {
    "id": "7trN4pOsEX7y"
   },
   "source": [
    "- - Créer une connexion à la base de données `'sqlite:///biblio.db'` puis l'affecter à `engine`. Afficher le type de `engine`.\n"
   ]
  },
  {
   "cell_type": "code",
   "execution_count": 4,
   "metadata": {
    "colab": {
     "base_uri": "https://localhost:8080/"
    },
    "executionInfo": {
     "elapsed": 109,
     "status": "ok",
     "timestamp": 1746673074638,
     "user": {
      "displayName": "Monsia DOUGBAN",
      "userId": "10610202925495594720"
     },
     "user_tz": 0
    },
    "id": "aUFIWZs0C3w9",
    "outputId": "e4aa3836-792b-445d-a088-45837e73c93d"
   },
   "outputs": [
    {
     "data": {
      "text/plain": [
       "sqlalchemy.engine.base.Engine"
      ]
     },
     "execution_count": 4,
     "metadata": {},
     "output_type": "execute_result"
    }
   ],
   "source": [
    "engine = create_engine('sqlite:///biblio.db')\n",
    "type(engine)"
   ]
  },
  {
   "cell_type": "markdown",
   "metadata": {
    "id": "gheyJxxtBz7Q"
   },
   "source": [
    "Ici, nous définissons des constructions au niveau du module qui formeront les structures que nous interrogerons dans la base de données. Cette structure, appelée mappage déclaratif, définit à la fois un modèle objet Python et des métadonnées décrivant les tables SQL réelles qui existent ou existeront dans une base de données particulière :"
   ]
  },
  {
   "cell_type": "markdown",
   "metadata": {
    "id": "A3cXax0-k9K2"
   },
   "source": [
    "#### Définition d'une entité\n",
    "\n",
    "- La classe `DeclarativeBase` est une structure appelée **mappage déclaratif**,  qui définit à la fois un modèle d'objet Python, ainsi que des métadonnées de base de données qui correspondent à de véritables tables SQL qui existent, ou existeront, dans une base de données.\n",
    "\n",
    "- La classe `Mapped` fournit les informations appropriées aux vérificateurs de type afin que les attributs mappés ORM soient correctement typés.\n",
    " - Exemple: `Mapped[int]` permet de spécifier que l'attribut mappé est du type entier.\n",
    "\n",
    "- La fonction [`mapped_column()`](https://docs.sqlalchemy.org/en/20/orm/mapping_api.html#sqlalchemy.orm.mapped_column) est utilisée pour faire corespondre un attribut à une colonne de table.\n",
    " - Exemple: `_id: Mapped[int] = mapped_column(primary_key=True)` permet de faire corespondre l'attribut `_id` à la clé primaire de la tables.\n",
    "\n",
    "[source](https://docs.sqlalchemy.org/en/20/orm/dataclasses.html#orm-declarative-native-dataclasses)"
   ]
  },
  {
   "cell_type": "code",
   "execution_count": 5,
   "metadata": {
    "id": "oYyGS4vDAOt-"
   },
   "outputs": [],
   "source": [
    "from sqlalchemy.orm import DeclarativeBase\n",
    "from sqlalchemy.orm import Mapped\n",
    "from sqlalchemy.orm import mapped_column\n",
    "from sqlalchemy.orm import MappedAsDataclass\n",
    "\n",
    "\n",
    "class Base(MappedAsDataclass, DeclarativeBase):\n",
    "    \"\"\"subclasses will be converted to dataclasses\"\"\"\n",
    "\n",
    "class User(Base):\n",
    "    __tablename__ = \"user\"\n",
    "    id: Mapped[int] = mapped_column(init=True, primary_key=True)"
   ]
  },
  {
   "cell_type": "markdown",
   "metadata": {
    "id": "IjBtS02FDSTe"
   },
   "source": [
    "#### Création de toutes les entités définies dans vos modèles\n",
    "\n",
    "`Base.metadata.create_all(engine)` permet de créer dans notre base de données (`engine`) toutes les tables représenter par des classe qui ont hérité de la classe `Base`.\n",
    "\n",
    "En utilisant nos métadonnées de table et notre moteur, nous pouvons générer notre schéma immédiatement dans notre base de données SQLite cible, en utilisant une méthode appelée MetaData.create_all() :"
   ]
  },
  {
   "cell_type": "code",
   "execution_count": null,
   "metadata": {
    "id": "IXPmdMZlOAuU"
   },
   "outputs": [],
   "source": [
    "# code ici"
   ]
  },
  {
   "cell_type": "code",
   "execution_count": null,
   "metadata": {
    "id": "oO-0FwTQaesA"
   },
   "outputs": [],
   "source": [
    "Base.metadata.create_all(engine)"
   ]
  },
  {
   "cell_type": "markdown",
   "metadata": {
    "id": "F7eKhUMNE_GQ"
   },
   "source": [
    "#### Créer une classe `Address` qui représente la table Address dans la base de données.\n",
    "Attributs:\n",
    " - _id (int): id d'une adresse dans la base de données\n",
    " - email (str): une adresse mail"
   ]
  },
  {
   "cell_type": "code",
   "execution_count": 5,
   "metadata": {
    "id": "cFrbYmbmGYFv"
   },
   "outputs": [],
   "source": [
    "# code ici"
   ]
  },
  {
   "cell_type": "code",
   "execution_count": 8,
   "metadata": {
    "id": "eaEax7L8GcIg"
   },
   "outputs": [],
   "source": [
    "class Address(Base):\n",
    "    __tablename__ = \"address\"\n",
    "    id: Mapped[int] = mapped_column(primary_key=True)"
   ]
  },
  {
   "cell_type": "code",
   "execution_count": null,
   "metadata": {
    "id": "es-ZVKkbGvad"
   },
   "outputs": [],
   "source": [
    "Base.metadata.create_all(engine)"
   ]
  },
  {
   "cell_type": "markdown",
   "metadata": {
    "id": "kyIzrjoGH9t_"
   },
   "source": [
    "#### Configuration des attributs: Explorons la fonction `mapped_column`\n",
    "\n",
    " mapped_column() prend en charge des options de champ pour une attribut, notamment. La fonctionnalité est équivalente à celle des dataclasses :\n",
    "\n",
    "- `init` (bool) : `True` par défaut, indique si l'attribut doit faire partie du constructeur `__init__()` (`True`) ou pas (`False`).\n",
    "\n",
    "- `default`: indique que le paramètre pour ce attribut est optionnel dans le constructeur `__init__`.\n",
    "\n",
    "- `insert_default`: indique une valeur par défaut pour un attribut dans le constructeur `__init__()`.\n",
    "\n",
    "- `repr` (bool): `True` par défaut, indique que le champ doit faire partie de la méthode `__repr__()` générée."
   ]
  },
  {
   "cell_type": "code",
   "execution_count": 19,
   "metadata": {
    "colab": {
     "base_uri": "https://localhost:8080/"
    },
    "executionInfo": {
     "elapsed": 22,
     "status": "ok",
     "timestamp": 1746668200563,
     "user": {
      "displayName": "Monsia DOUGBAN",
      "userId": "10610202925495594720"
     },
     "user_tz": 0
    },
    "id": "ndZ7ARIfJKLe",
    "outputId": "8ab9d6d5-3f1f-4f99-e06a-6d15b63d4177"
   },
   "outputs": [],
   "source": [
    "from sqlalchemy.orm import DeclarativeBase\n",
    "from sqlalchemy.orm import Mapped\n",
    "from sqlalchemy.orm import mapped_column\n",
    "from sqlalchemy import String\n",
    "from datetime import datetime\n",
    "from sqlalchemy import func\n",
    "from sqlalchemy.orm import MappedAsDataclass\n",
    "\n",
    "\n",
    "class Base(MappedAsDataclass, DeclarativeBase):\n",
    "    \"\"\"subclasses will be converted to dataclasses\"\"\"\n",
    "\n",
    "\n",
    "class User(Base):\n",
    "    __tablename__ = \"user\"\n",
    "    _id: Mapped[int] = mapped_column(init=False, primary_key=True, repr=False)\n",
    "    name: Mapped[str] = mapped_column(String(30))\n",
    "    fullname: Mapped[str|None] = mapped_column(default=None)\n",
    "    created_at: Mapped[datetime] = mapped_column(\n",
    "        insert_default=datetime.now, default=None\n",
    "    )\n",
    "\n",
    "#print(User(name=\"Monsia\", fullname=\"DOugban Monsia\"))"
   ]
  },
  {
   "cell_type": "code",
   "execution_count": 20,
   "metadata": {},
   "outputs": [],
   "source": [
    "Base.metadata.create_all(engine)"
   ]
  },
  {
   "cell_type": "markdown",
   "metadata": {
    "id": "TxgHks4FjEi3"
   },
   "source": [
    "#### Enrichire la classe `Address`\n",
    "Attributs:\n",
    " - tel (str): le numero de téléphone\n",
    " - city (str): la ville.\n",
    " - district (str): le quartier\n",
    " - street (str): la rue (optionnel)\n",
    " - house (int): numero de de la maison"
   ]
  },
  {
   "cell_type": "code",
   "execution_count": 8,
   "metadata": {
    "id": "-ZGbOjIhlWEr"
   },
   "outputs": [],
   "source": [
    "# code ici\n",
    "class Address(Base):\n",
    "    __tablename__ = \"address\"\n",
    "    id: Mapped[int] = mapped_column(primary_key=True)\n",
    "    tel: Mapped[str]\n",
    "    city: Mapped[str]\n",
    "    district: Mapped[str]\n",
    "    street: Mapped[str]\n",
    "    house: Mapped[int]"
   ]
  },
  {
   "cell_type": "code",
   "execution_count": 9,
   "metadata": {},
   "outputs": [],
   "source": [
    "Base.metadata.create_all(engine)"
   ]
  },
  {
   "cell_type": "markdown",
   "metadata": {
    "id": "XbZq6LRmlxTi"
   },
   "source": [
    "#### Configuration des relations entre entités\n",
    "\n",
    "- La classe `ForeignKey(\"class_name.id_name\")`: définit une dépendance entre deux colonnes. classe_name désigne le nom de la classe, id_name définit l'identifiant.\n",
    "\n",
    "- La fonction `relationship(...)`: définit une relation entre deux classes mappées. Il existe trois types de rélation:\n",
    " - **[Many to One](https://docs.sqlalchemy.org/en/20/orm/basic_relationships.html#many-to-one)**: utilise une clé étrangère dans la table de cardinalité 1 faisant référence à table de cardinalité n.\n",
    "\n",
    " - **[One To One](https://docs.sqlalchemy.org/en/20/orm/basic_relationships.html#one-to-one)** est essentiellement une relation **One To Many** du point de vue de la clé étrangère.\n",
    "\n",
    " - **[Many to Many](https://docs.sqlalchemy.org/en/20/orm/basic_relationships.html#many-to-many)**:  utilise une table d'association entre deux classes. La table d'association est objet de type `Table` et est indiquée par l'argument `secondary` dans `relationship()`."
   ]
  },
  {
   "cell_type": "code",
   "execution_count": null,
   "metadata": {
    "id": "dYGClBwuDBD1"
   },
   "outputs": [],
   "source": [
    "from sqlalchemy.orm import DeclarativeBase\n",
    "from sqlalchemy.orm import Mapped\n",
    "from sqlalchemy.orm import mapped_column\n",
    "from sqlalchemy import String\n",
    "from datetime import datetime\n",
    "from sqlalchemy import func\n",
    "from sqlalchemy.orm import MappedAsDataclass\n",
    "from sqlalchemy.orm import relationship\n",
    "from sqlalchemy import ForeignKey\n",
    "from typing import List\n",
    "\n",
    "\n",
    "class Base(MappedAsDataclass, DeclarativeBase):\n",
    "    \"\"\"subclasses will be converted to dataclasses\"\"\"\n",
    "    pass\n",
    "\n",
    "\n",
    "class User(Base):\n",
    "    __tablename__ = \"user\"\n",
    "    _id: Mapped[int] = mapped_column(init=False, primary_key=True, repr=False)\n",
    "    name: Mapped[str] = mapped_column(String(30))\n",
    "    fullname: Mapped[str|None] = mapped_column(default=None)\n",
    "    created_at: Mapped[datetime] = mapped_column(\n",
    "        insert_default=datetime.now, default=None\n",
    "    )\n",
    "    # address_id: Mapped[int] = mapped_column(ForeignKey(\"address._id\"), default=None)\n",
    "    addresses: Mapped[List[\"Address\"] | None] = relationship(\n",
    "        back_populates=\"user\", cascade=\"all, delete-orphan\", default=None\n",
    "    )\n",
    "\n",
    "class Address(Base):\n",
    "    __tablename__ = \"address\"\n",
    "    _id: Mapped[int] = mapped_column(init=False, primary_key=True)\n",
    "    email: Mapped[str]\n",
    "    user_id: Mapped[int] = mapped_column(ForeignKey(\"user._id\"), default=None)\n",
    "    user: Mapped[\"User\"] = relationship(b ack_populates=\"addresses\", default=None)\n",
    "\n",
    "\n"
   ]
  },
  {
   "cell_type": "code",
   "execution_count": 15,
   "metadata": {
    "id": "kOp-7AXd2dRq"
   },
   "outputs": [],
   "source": [
    "Base.metadata.create_all(engine)"
   ]
  },
  {
   "cell_type": "markdown",
   "metadata": {
    "id": "ftZm0rXhuYJb"
   },
   "source": [
    "#### insérer des données"
   ]
  },
  {
   "cell_type": "code",
   "execution_count": 16,
   "metadata": {
    "id": "gOUIdKGJwa3_"
   },
   "outputs": [],
   "source": [
    "from sqlalchemy.orm import Session"
   ]
  },
  {
   "cell_type": "code",
   "execution_count": 17,
   "metadata": {
    "id": "5ksnKUk9u6d8"
   },
   "outputs": [
    {
     "ename": "OperationalError",
     "evalue": "(sqlite3.OperationalError) no such column: _id\n[SQL: INSERT INTO user (name, fullname, created_at) VALUES (?, ?, ?) RETURNING _id]\n[parameters: ('Koffi', 'Aya Sandrine', '2025-05-14 02:05:40.595969')]\n(Background on this error at: https://sqlalche.me/e/20/e3q8)",
     "output_type": "error",
     "traceback": [
      "\u001b[31m---------------------------------------------------------------------------\u001b[39m",
      "\u001b[31mOperationalError\u001b[39m                          Traceback (most recent call last)",
      "\u001b[36mFile \u001b[39m\u001b[32mc:\\Users\\DavFocus\\desktop\\ODC_GENAI-Cohorte_1\\davfocus_env\\Lib\\site-packages\\sqlalchemy\\engine\\base.py:2115\u001b[39m, in \u001b[36mConnection._exec_insertmany_context\u001b[39m\u001b[34m(self, dialect, context)\u001b[39m\n\u001b[32m   2114\u001b[39m     \u001b[38;5;28;01melse\u001b[39;00m:\n\u001b[32m-> \u001b[39m\u001b[32m2115\u001b[39m         \u001b[43mdialect\u001b[49m\u001b[43m.\u001b[49m\u001b[43mdo_execute\u001b[49m\u001b[43m(\u001b[49m\n\u001b[32m   2116\u001b[39m \u001b[43m            \u001b[49m\u001b[43mcursor\u001b[49m\u001b[43m,\u001b[49m\n\u001b[32m   2117\u001b[39m \u001b[43m            \u001b[49m\u001b[43msub_stmt\u001b[49m\u001b[43m,\u001b[49m\n\u001b[32m   2118\u001b[39m \u001b[43m            \u001b[49m\u001b[43msub_params\u001b[49m\u001b[43m,\u001b[49m\n\u001b[32m   2119\u001b[39m \u001b[43m            \u001b[49m\u001b[43mcontext\u001b[49m\u001b[43m,\u001b[49m\n\u001b[32m   2120\u001b[39m \u001b[43m        \u001b[49m\u001b[43m)\u001b[49m\n\u001b[32m   2122\u001b[39m \u001b[38;5;28;01mexcept\u001b[39;00m \u001b[38;5;167;01mBaseException\u001b[39;00m \u001b[38;5;28;01mas\u001b[39;00m e:\n",
      "\u001b[36mFile \u001b[39m\u001b[32mc:\\Users\\DavFocus\\desktop\\ODC_GENAI-Cohorte_1\\davfocus_env\\Lib\\site-packages\\sqlalchemy\\engine\\default.py:945\u001b[39m, in \u001b[36mDefaultDialect.do_execute\u001b[39m\u001b[34m(self, cursor, statement, parameters, context)\u001b[39m\n\u001b[32m    944\u001b[39m \u001b[38;5;28;01mdef\u001b[39;00m\u001b[38;5;250m \u001b[39m\u001b[34mdo_execute\u001b[39m(\u001b[38;5;28mself\u001b[39m, cursor, statement, parameters, context=\u001b[38;5;28;01mNone\u001b[39;00m):\n\u001b[32m--> \u001b[39m\u001b[32m945\u001b[39m     \u001b[43mcursor\u001b[49m\u001b[43m.\u001b[49m\u001b[43mexecute\u001b[49m\u001b[43m(\u001b[49m\u001b[43mstatement\u001b[49m\u001b[43m,\u001b[49m\u001b[43m \u001b[49m\u001b[43mparameters\u001b[49m\u001b[43m)\u001b[49m\n",
      "\u001b[31mOperationalError\u001b[39m: no such column: _id",
      "\nThe above exception was the direct cause of the following exception:\n",
      "\u001b[31mOperationalError\u001b[39m                          Traceback (most recent call last)",
      "\u001b[36mCell\u001b[39m\u001b[36m \u001b[39m\u001b[32mIn[17]\u001b[39m\u001b[32m, line 14\u001b[39m\n\u001b[32m     11\u001b[39m user_2 = User(name=\u001b[33m\"\u001b[39m\u001b[33mKoné\u001b[39m\u001b[33m\"\u001b[39m, fullname=\u001b[33m\"\u001b[39m\u001b[33mPatrick\u001b[39m\u001b[33m\"\u001b[39m, addresses=[])\n\u001b[32m     13\u001b[39m session.add_all([user_1, user_2])\n\u001b[32m---> \u001b[39m\u001b[32m14\u001b[39m \u001b[43msession\u001b[49m\u001b[43m.\u001b[49m\u001b[43mcommit\u001b[49m\u001b[43m(\u001b[49m\u001b[43m)\u001b[49m\n",
      "\u001b[36mFile \u001b[39m\u001b[32mc:\\Users\\DavFocus\\desktop\\ODC_GENAI-Cohorte_1\\davfocus_env\\Lib\\site-packages\\sqlalchemy\\orm\\session.py:2032\u001b[39m, in \u001b[36mSession.commit\u001b[39m\u001b[34m(self)\u001b[39m\n\u001b[32m   2029\u001b[39m \u001b[38;5;28;01mif\u001b[39;00m trans \u001b[38;5;129;01mis\u001b[39;00m \u001b[38;5;28;01mNone\u001b[39;00m:\n\u001b[32m   2030\u001b[39m     trans = \u001b[38;5;28mself\u001b[39m._autobegin_t()\n\u001b[32m-> \u001b[39m\u001b[32m2032\u001b[39m \u001b[43mtrans\u001b[49m\u001b[43m.\u001b[49m\u001b[43mcommit\u001b[49m\u001b[43m(\u001b[49m\u001b[43m_to_root\u001b[49m\u001b[43m=\u001b[49m\u001b[38;5;28;43;01mTrue\u001b[39;49;00m\u001b[43m)\u001b[49m\n",
      "\u001b[36mFile \u001b[39m\u001b[32m<string>:2\u001b[39m, in \u001b[36mcommit\u001b[39m\u001b[34m(self, _to_root)\u001b[39m\n",
      "\u001b[36mFile \u001b[39m\u001b[32mc:\\Users\\DavFocus\\desktop\\ODC_GENAI-Cohorte_1\\davfocus_env\\Lib\\site-packages\\sqlalchemy\\orm\\state_changes.py:139\u001b[39m, in \u001b[36m_StateChange.declare_states.<locals>._go\u001b[39m\u001b[34m(fn, self, *arg, **kw)\u001b[39m\n\u001b[32m    137\u001b[39m \u001b[38;5;28mself\u001b[39m._next_state = _StateChangeStates.CHANGE_IN_PROGRESS\n\u001b[32m    138\u001b[39m \u001b[38;5;28;01mtry\u001b[39;00m:\n\u001b[32m--> \u001b[39m\u001b[32m139\u001b[39m     ret_value = \u001b[43mfn\u001b[49m\u001b[43m(\u001b[49m\u001b[38;5;28;43mself\u001b[39;49m\u001b[43m,\u001b[49m\u001b[43m \u001b[49m\u001b[43m*\u001b[49m\u001b[43marg\u001b[49m\u001b[43m,\u001b[49m\u001b[43m \u001b[49m\u001b[43m*\u001b[49m\u001b[43m*\u001b[49m\u001b[43mkw\u001b[49m\u001b[43m)\u001b[49m\n\u001b[32m    140\u001b[39m \u001b[38;5;28;01mexcept\u001b[39;00m:\n\u001b[32m    141\u001b[39m     \u001b[38;5;28;01mraise\u001b[39;00m\n",
      "\u001b[36mFile \u001b[39m\u001b[32mc:\\Users\\DavFocus\\desktop\\ODC_GENAI-Cohorte_1\\davfocus_env\\Lib\\site-packages\\sqlalchemy\\orm\\session.py:1313\u001b[39m, in \u001b[36mSessionTransaction.commit\u001b[39m\u001b[34m(self, _to_root)\u001b[39m\n\u001b[32m   1311\u001b[39m \u001b[38;5;28;01mif\u001b[39;00m \u001b[38;5;28mself\u001b[39m._state \u001b[38;5;129;01mis\u001b[39;00m \u001b[38;5;129;01mnot\u001b[39;00m SessionTransactionState.PREPARED:\n\u001b[32m   1312\u001b[39m     \u001b[38;5;28;01mwith\u001b[39;00m \u001b[38;5;28mself\u001b[39m._expect_state(SessionTransactionState.PREPARED):\n\u001b[32m-> \u001b[39m\u001b[32m1313\u001b[39m         \u001b[38;5;28;43mself\u001b[39;49m\u001b[43m.\u001b[49m\u001b[43m_prepare_impl\u001b[49m\u001b[43m(\u001b[49m\u001b[43m)\u001b[49m\n\u001b[32m   1315\u001b[39m \u001b[38;5;28;01mif\u001b[39;00m \u001b[38;5;28mself\u001b[39m._parent \u001b[38;5;129;01mis\u001b[39;00m \u001b[38;5;28;01mNone\u001b[39;00m \u001b[38;5;129;01mor\u001b[39;00m \u001b[38;5;28mself\u001b[39m.nested:\n\u001b[32m   1316\u001b[39m     \u001b[38;5;28;01mfor\u001b[39;00m conn, trans, should_commit, autoclose \u001b[38;5;129;01min\u001b[39;00m \u001b[38;5;28mset\u001b[39m(\n\u001b[32m   1317\u001b[39m         \u001b[38;5;28mself\u001b[39m._connections.values()\n\u001b[32m   1318\u001b[39m     ):\n",
      "\u001b[36mFile \u001b[39m\u001b[32m<string>:2\u001b[39m, in \u001b[36m_prepare_impl\u001b[39m\u001b[34m(self)\u001b[39m\n",
      "\u001b[36mFile \u001b[39m\u001b[32mc:\\Users\\DavFocus\\desktop\\ODC_GENAI-Cohorte_1\\davfocus_env\\Lib\\site-packages\\sqlalchemy\\orm\\state_changes.py:139\u001b[39m, in \u001b[36m_StateChange.declare_states.<locals>._go\u001b[39m\u001b[34m(fn, self, *arg, **kw)\u001b[39m\n\u001b[32m    137\u001b[39m \u001b[38;5;28mself\u001b[39m._next_state = _StateChangeStates.CHANGE_IN_PROGRESS\n\u001b[32m    138\u001b[39m \u001b[38;5;28;01mtry\u001b[39;00m:\n\u001b[32m--> \u001b[39m\u001b[32m139\u001b[39m     ret_value = \u001b[43mfn\u001b[49m\u001b[43m(\u001b[49m\u001b[38;5;28;43mself\u001b[39;49m\u001b[43m,\u001b[49m\u001b[43m \u001b[49m\u001b[43m*\u001b[49m\u001b[43marg\u001b[49m\u001b[43m,\u001b[49m\u001b[43m \u001b[49m\u001b[43m*\u001b[49m\u001b[43m*\u001b[49m\u001b[43mkw\u001b[49m\u001b[43m)\u001b[49m\n\u001b[32m    140\u001b[39m \u001b[38;5;28;01mexcept\u001b[39;00m:\n\u001b[32m    141\u001b[39m     \u001b[38;5;28;01mraise\u001b[39;00m\n",
      "\u001b[36mFile \u001b[39m\u001b[32mc:\\Users\\DavFocus\\desktop\\ODC_GENAI-Cohorte_1\\davfocus_env\\Lib\\site-packages\\sqlalchemy\\orm\\session.py:1288\u001b[39m, in \u001b[36mSessionTransaction._prepare_impl\u001b[39m\u001b[34m(self)\u001b[39m\n\u001b[32m   1286\u001b[39m     \u001b[38;5;28;01mif\u001b[39;00m \u001b[38;5;28mself\u001b[39m.session._is_clean():\n\u001b[32m   1287\u001b[39m         \u001b[38;5;28;01mbreak\u001b[39;00m\n\u001b[32m-> \u001b[39m\u001b[32m1288\u001b[39m     \u001b[38;5;28;43mself\u001b[39;49m\u001b[43m.\u001b[49m\u001b[43msession\u001b[49m\u001b[43m.\u001b[49m\u001b[43mflush\u001b[49m\u001b[43m(\u001b[49m\u001b[43m)\u001b[49m\n\u001b[32m   1289\u001b[39m \u001b[38;5;28;01melse\u001b[39;00m:\n\u001b[32m   1290\u001b[39m     \u001b[38;5;28;01mraise\u001b[39;00m exc.FlushError(\n\u001b[32m   1291\u001b[39m         \u001b[33m\"\u001b[39m\u001b[33mOver 100 subsequent flushes have occurred within \u001b[39m\u001b[33m\"\u001b[39m\n\u001b[32m   1292\u001b[39m         \u001b[33m\"\u001b[39m\u001b[33msession.commit() - is an after_flush() hook \u001b[39m\u001b[33m\"\u001b[39m\n\u001b[32m   1293\u001b[39m         \u001b[33m\"\u001b[39m\u001b[33mcreating new objects?\u001b[39m\u001b[33m\"\u001b[39m\n\u001b[32m   1294\u001b[39m     )\n",
      "\u001b[36mFile \u001b[39m\u001b[32mc:\\Users\\DavFocus\\desktop\\ODC_GENAI-Cohorte_1\\davfocus_env\\Lib\\site-packages\\sqlalchemy\\orm\\session.py:4353\u001b[39m, in \u001b[36mSession.flush\u001b[39m\u001b[34m(self, objects)\u001b[39m\n\u001b[32m   4351\u001b[39m \u001b[38;5;28;01mtry\u001b[39;00m:\n\u001b[32m   4352\u001b[39m     \u001b[38;5;28mself\u001b[39m._flushing = \u001b[38;5;28;01mTrue\u001b[39;00m\n\u001b[32m-> \u001b[39m\u001b[32m4353\u001b[39m     \u001b[38;5;28;43mself\u001b[39;49m\u001b[43m.\u001b[49m\u001b[43m_flush\u001b[49m\u001b[43m(\u001b[49m\u001b[43mobjects\u001b[49m\u001b[43m)\u001b[49m\n\u001b[32m   4354\u001b[39m \u001b[38;5;28;01mfinally\u001b[39;00m:\n\u001b[32m   4355\u001b[39m     \u001b[38;5;28mself\u001b[39m._flushing = \u001b[38;5;28;01mFalse\u001b[39;00m\n",
      "\u001b[36mFile \u001b[39m\u001b[32mc:\\Users\\DavFocus\\desktop\\ODC_GENAI-Cohorte_1\\davfocus_env\\Lib\\site-packages\\sqlalchemy\\orm\\session.py:4488\u001b[39m, in \u001b[36mSession._flush\u001b[39m\u001b[34m(self, objects)\u001b[39m\n\u001b[32m   4485\u001b[39m     transaction.commit()\n\u001b[32m   4487\u001b[39m \u001b[38;5;28;01mexcept\u001b[39;00m:\n\u001b[32m-> \u001b[39m\u001b[32m4488\u001b[39m \u001b[43m    \u001b[49m\u001b[38;5;28;43;01mwith\u001b[39;49;00m\u001b[43m \u001b[49m\u001b[43mutil\u001b[49m\u001b[43m.\u001b[49m\u001b[43msafe_reraise\u001b[49m\u001b[43m(\u001b[49m\u001b[43m)\u001b[49m\u001b[43m:\u001b[49m\n\u001b[32m   4489\u001b[39m \u001b[43m        \u001b[49m\u001b[43mtransaction\u001b[49m\u001b[43m.\u001b[49m\u001b[43mrollback\u001b[49m\u001b[43m(\u001b[49m\u001b[43m_capture_exception\u001b[49m\u001b[43m=\u001b[49m\u001b[38;5;28;43;01mTrue\u001b[39;49;00m\u001b[43m)\u001b[49m\n",
      "\u001b[36mFile \u001b[39m\u001b[32mc:\\Users\\DavFocus\\desktop\\ODC_GENAI-Cohorte_1\\davfocus_env\\Lib\\site-packages\\sqlalchemy\\util\\langhelpers.py:146\u001b[39m, in \u001b[36msafe_reraise.__exit__\u001b[39m\u001b[34m(self, type_, value, traceback)\u001b[39m\n\u001b[32m    144\u001b[39m     \u001b[38;5;28;01massert\u001b[39;00m exc_value \u001b[38;5;129;01mis\u001b[39;00m \u001b[38;5;129;01mnot\u001b[39;00m \u001b[38;5;28;01mNone\u001b[39;00m\n\u001b[32m    145\u001b[39m     \u001b[38;5;28mself\u001b[39m._exc_info = \u001b[38;5;28;01mNone\u001b[39;00m  \u001b[38;5;66;03m# remove potential circular references\u001b[39;00m\n\u001b[32m--> \u001b[39m\u001b[32m146\u001b[39m     \u001b[38;5;28;01mraise\u001b[39;00m exc_value.with_traceback(exc_tb)\n\u001b[32m    147\u001b[39m \u001b[38;5;28;01melse\u001b[39;00m:\n\u001b[32m    148\u001b[39m     \u001b[38;5;28mself\u001b[39m._exc_info = \u001b[38;5;28;01mNone\u001b[39;00m  \u001b[38;5;66;03m# remove potential circular references\u001b[39;00m\n",
      "\u001b[36mFile \u001b[39m\u001b[32mc:\\Users\\DavFocus\\desktop\\ODC_GENAI-Cohorte_1\\davfocus_env\\Lib\\site-packages\\sqlalchemy\\orm\\session.py:4449\u001b[39m, in \u001b[36mSession._flush\u001b[39m\u001b[34m(self, objects)\u001b[39m\n\u001b[32m   4447\u001b[39m \u001b[38;5;28mself\u001b[39m._warn_on_events = \u001b[38;5;28;01mTrue\u001b[39;00m\n\u001b[32m   4448\u001b[39m \u001b[38;5;28;01mtry\u001b[39;00m:\n\u001b[32m-> \u001b[39m\u001b[32m4449\u001b[39m     \u001b[43mflush_context\u001b[49m\u001b[43m.\u001b[49m\u001b[43mexecute\u001b[49m\u001b[43m(\u001b[49m\u001b[43m)\u001b[49m\n\u001b[32m   4450\u001b[39m \u001b[38;5;28;01mfinally\u001b[39;00m:\n\u001b[32m   4451\u001b[39m     \u001b[38;5;28mself\u001b[39m._warn_on_events = \u001b[38;5;28;01mFalse\u001b[39;00m\n",
      "\u001b[36mFile \u001b[39m\u001b[32mc:\\Users\\DavFocus\\desktop\\ODC_GENAI-Cohorte_1\\davfocus_env\\Lib\\site-packages\\sqlalchemy\\orm\\unitofwork.py:466\u001b[39m, in \u001b[36mUOWTransaction.execute\u001b[39m\u001b[34m(self)\u001b[39m\n\u001b[32m    464\u001b[39m \u001b[38;5;28;01melse\u001b[39;00m:\n\u001b[32m    465\u001b[39m     \u001b[38;5;28;01mfor\u001b[39;00m rec \u001b[38;5;129;01min\u001b[39;00m topological.sort(\u001b[38;5;28mself\u001b[39m.dependencies, postsort_actions):\n\u001b[32m--> \u001b[39m\u001b[32m466\u001b[39m         \u001b[43mrec\u001b[49m\u001b[43m.\u001b[49m\u001b[43mexecute\u001b[49m\u001b[43m(\u001b[49m\u001b[38;5;28;43mself\u001b[39;49m\u001b[43m)\u001b[49m\n",
      "\u001b[36mFile \u001b[39m\u001b[32mc:\\Users\\DavFocus\\desktop\\ODC_GENAI-Cohorte_1\\davfocus_env\\Lib\\site-packages\\sqlalchemy\\orm\\unitofwork.py:642\u001b[39m, in \u001b[36mSaveUpdateAll.execute\u001b[39m\u001b[34m(self, uow)\u001b[39m\n\u001b[32m    640\u001b[39m \u001b[38;5;129m@util\u001b[39m.preload_module(\u001b[33m\"\u001b[39m\u001b[33msqlalchemy.orm.persistence\u001b[39m\u001b[33m\"\u001b[39m)\n\u001b[32m    641\u001b[39m \u001b[38;5;28;01mdef\u001b[39;00m\u001b[38;5;250m \u001b[39m\u001b[34mexecute\u001b[39m(\u001b[38;5;28mself\u001b[39m, uow):\n\u001b[32m--> \u001b[39m\u001b[32m642\u001b[39m     \u001b[43mutil\u001b[49m\u001b[43m.\u001b[49m\u001b[43mpreloaded\u001b[49m\u001b[43m.\u001b[49m\u001b[43morm_persistence\u001b[49m\u001b[43m.\u001b[49m\u001b[43msave_obj\u001b[49m\u001b[43m(\u001b[49m\n\u001b[32m    643\u001b[39m \u001b[43m        \u001b[49m\u001b[38;5;28;43mself\u001b[39;49m\u001b[43m.\u001b[49m\u001b[43mmapper\u001b[49m\u001b[43m,\u001b[49m\n\u001b[32m    644\u001b[39m \u001b[43m        \u001b[49m\u001b[43muow\u001b[49m\u001b[43m.\u001b[49m\u001b[43mstates_for_mapper_hierarchy\u001b[49m\u001b[43m(\u001b[49m\u001b[38;5;28;43mself\u001b[39;49m\u001b[43m.\u001b[49m\u001b[43mmapper\u001b[49m\u001b[43m,\u001b[49m\u001b[43m \u001b[49m\u001b[38;5;28;43;01mFalse\u001b[39;49;00m\u001b[43m,\u001b[49m\u001b[43m \u001b[49m\u001b[38;5;28;43;01mFalse\u001b[39;49;00m\u001b[43m)\u001b[49m\u001b[43m,\u001b[49m\n\u001b[32m    645\u001b[39m \u001b[43m        \u001b[49m\u001b[43muow\u001b[49m\u001b[43m,\u001b[49m\n\u001b[32m    646\u001b[39m \u001b[43m    \u001b[49m\u001b[43m)\u001b[49m\n",
      "\u001b[36mFile \u001b[39m\u001b[32mc:\\Users\\DavFocus\\desktop\\ODC_GENAI-Cohorte_1\\davfocus_env\\Lib\\site-packages\\sqlalchemy\\orm\\persistence.py:93\u001b[39m, in \u001b[36msave_obj\u001b[39m\u001b[34m(base_mapper, states, uowtransaction, single)\u001b[39m\n\u001b[32m     81\u001b[39m     update = _collect_update_commands(\n\u001b[32m     82\u001b[39m         uowtransaction, table, states_to_update\n\u001b[32m     83\u001b[39m     )\n\u001b[32m     85\u001b[39m     _emit_update_statements(\n\u001b[32m     86\u001b[39m         base_mapper,\n\u001b[32m     87\u001b[39m         uowtransaction,\n\u001b[32m   (...)\u001b[39m\u001b[32m     90\u001b[39m         update,\n\u001b[32m     91\u001b[39m     )\n\u001b[32m---> \u001b[39m\u001b[32m93\u001b[39m     \u001b[43m_emit_insert_statements\u001b[49m\u001b[43m(\u001b[49m\n\u001b[32m     94\u001b[39m \u001b[43m        \u001b[49m\u001b[43mbase_mapper\u001b[49m\u001b[43m,\u001b[49m\n\u001b[32m     95\u001b[39m \u001b[43m        \u001b[49m\u001b[43muowtransaction\u001b[49m\u001b[43m,\u001b[49m\n\u001b[32m     96\u001b[39m \u001b[43m        \u001b[49m\u001b[43mmapper\u001b[49m\u001b[43m,\u001b[49m\n\u001b[32m     97\u001b[39m \u001b[43m        \u001b[49m\u001b[43mtable\u001b[49m\u001b[43m,\u001b[49m\n\u001b[32m     98\u001b[39m \u001b[43m        \u001b[49m\u001b[43minsert\u001b[49m\u001b[43m,\u001b[49m\n\u001b[32m     99\u001b[39m \u001b[43m    \u001b[49m\u001b[43m)\u001b[49m\n\u001b[32m    101\u001b[39m _finalize_insert_update_commands(\n\u001b[32m    102\u001b[39m     base_mapper,\n\u001b[32m    103\u001b[39m     uowtransaction,\n\u001b[32m   (...)\u001b[39m\u001b[32m    119\u001b[39m     ),\n\u001b[32m    120\u001b[39m )\n",
      "\u001b[36mFile \u001b[39m\u001b[32mc:\\Users\\DavFocus\\desktop\\ODC_GENAI-Cohorte_1\\davfocus_env\\Lib\\site-packages\\sqlalchemy\\orm\\persistence.py:1143\u001b[39m, in \u001b[36m_emit_insert_statements\u001b[39m\u001b[34m(base_mapper, uowtransaction, mapper, table, insert, bookkeeping, use_orm_insert_stmt, execution_options)\u001b[39m\n\u001b[32m   1140\u001b[39m \u001b[38;5;28;01mif\u001b[39;00m do_executemany:\n\u001b[32m   1141\u001b[39m     multiparams = [rec[\u001b[32m2\u001b[39m] \u001b[38;5;28;01mfor\u001b[39;00m rec \u001b[38;5;129;01min\u001b[39;00m records]\n\u001b[32m-> \u001b[39m\u001b[32m1143\u001b[39m     result = \u001b[43mconnection\u001b[49m\u001b[43m.\u001b[49m\u001b[43mexecute\u001b[49m\u001b[43m(\u001b[49m\n\u001b[32m   1144\u001b[39m \u001b[43m        \u001b[49m\u001b[43mstatement\u001b[49m\u001b[43m,\u001b[49m\u001b[43m \u001b[49m\u001b[43mmultiparams\u001b[49m\u001b[43m,\u001b[49m\u001b[43m \u001b[49m\u001b[43mexecution_options\u001b[49m\u001b[43m=\u001b[49m\u001b[43mexecution_options\u001b[49m\n\u001b[32m   1145\u001b[39m \u001b[43m    \u001b[49m\u001b[43m)\u001b[49m\n\u001b[32m   1147\u001b[39m     \u001b[38;5;28;01mif\u001b[39;00m use_orm_insert_stmt \u001b[38;5;129;01mis\u001b[39;00m \u001b[38;5;129;01mnot\u001b[39;00m \u001b[38;5;28;01mNone\u001b[39;00m:\n\u001b[32m   1148\u001b[39m         \u001b[38;5;28;01mif\u001b[39;00m return_result \u001b[38;5;129;01mis\u001b[39;00m \u001b[38;5;28;01mNone\u001b[39;00m:\n",
      "\u001b[36mFile \u001b[39m\u001b[32mc:\\Users\\DavFocus\\desktop\\ODC_GENAI-Cohorte_1\\davfocus_env\\Lib\\site-packages\\sqlalchemy\\engine\\base.py:1416\u001b[39m, in \u001b[36mConnection.execute\u001b[39m\u001b[34m(self, statement, parameters, execution_options)\u001b[39m\n\u001b[32m   1414\u001b[39m     \u001b[38;5;28;01mraise\u001b[39;00m exc.ObjectNotExecutableError(statement) \u001b[38;5;28;01mfrom\u001b[39;00m\u001b[38;5;250m \u001b[39m\u001b[34;01merr\u001b[39;00m\n\u001b[32m   1415\u001b[39m \u001b[38;5;28;01melse\u001b[39;00m:\n\u001b[32m-> \u001b[39m\u001b[32m1416\u001b[39m     \u001b[38;5;28;01mreturn\u001b[39;00m \u001b[43mmeth\u001b[49m\u001b[43m(\u001b[49m\n\u001b[32m   1417\u001b[39m \u001b[43m        \u001b[49m\u001b[38;5;28;43mself\u001b[39;49m\u001b[43m,\u001b[49m\n\u001b[32m   1418\u001b[39m \u001b[43m        \u001b[49m\u001b[43mdistilled_parameters\u001b[49m\u001b[43m,\u001b[49m\n\u001b[32m   1419\u001b[39m \u001b[43m        \u001b[49m\u001b[43mexecution_options\u001b[49m\u001b[43m \u001b[49m\u001b[38;5;129;43;01mor\u001b[39;49;00m\u001b[43m \u001b[49m\u001b[43mNO_OPTIONS\u001b[49m\u001b[43m,\u001b[49m\n\u001b[32m   1420\u001b[39m \u001b[43m    \u001b[49m\u001b[43m)\u001b[49m\n",
      "\u001b[36mFile \u001b[39m\u001b[32mc:\\Users\\DavFocus\\desktop\\ODC_GENAI-Cohorte_1\\davfocus_env\\Lib\\site-packages\\sqlalchemy\\sql\\elements.py:523\u001b[39m, in \u001b[36mClauseElement._execute_on_connection\u001b[39m\u001b[34m(self, connection, distilled_params, execution_options)\u001b[39m\n\u001b[32m    521\u001b[39m     \u001b[38;5;28;01mif\u001b[39;00m TYPE_CHECKING:\n\u001b[32m    522\u001b[39m         \u001b[38;5;28;01massert\u001b[39;00m \u001b[38;5;28misinstance\u001b[39m(\u001b[38;5;28mself\u001b[39m, Executable)\n\u001b[32m--> \u001b[39m\u001b[32m523\u001b[39m     \u001b[38;5;28;01mreturn\u001b[39;00m \u001b[43mconnection\u001b[49m\u001b[43m.\u001b[49m\u001b[43m_execute_clauseelement\u001b[49m\u001b[43m(\u001b[49m\n\u001b[32m    524\u001b[39m \u001b[43m        \u001b[49m\u001b[38;5;28;43mself\u001b[39;49m\u001b[43m,\u001b[49m\u001b[43m \u001b[49m\u001b[43mdistilled_params\u001b[49m\u001b[43m,\u001b[49m\u001b[43m \u001b[49m\u001b[43mexecution_options\u001b[49m\n\u001b[32m    525\u001b[39m \u001b[43m    \u001b[49m\u001b[43m)\u001b[49m\n\u001b[32m    526\u001b[39m \u001b[38;5;28;01melse\u001b[39;00m:\n\u001b[32m    527\u001b[39m     \u001b[38;5;28;01mraise\u001b[39;00m exc.ObjectNotExecutableError(\u001b[38;5;28mself\u001b[39m)\n",
      "\u001b[36mFile \u001b[39m\u001b[32mc:\\Users\\DavFocus\\desktop\\ODC_GENAI-Cohorte_1\\davfocus_env\\Lib\\site-packages\\sqlalchemy\\engine\\base.py:1638\u001b[39m, in \u001b[36mConnection._execute_clauseelement\u001b[39m\u001b[34m(self, elem, distilled_parameters, execution_options)\u001b[39m\n\u001b[32m   1626\u001b[39m compiled_cache: Optional[CompiledCacheType] = execution_options.get(\n\u001b[32m   1627\u001b[39m     \u001b[33m\"\u001b[39m\u001b[33mcompiled_cache\u001b[39m\u001b[33m\"\u001b[39m, \u001b[38;5;28mself\u001b[39m.engine._compiled_cache\n\u001b[32m   1628\u001b[39m )\n\u001b[32m   1630\u001b[39m compiled_sql, extracted_params, cache_hit = elem._compile_w_cache(\n\u001b[32m   1631\u001b[39m     dialect=dialect,\n\u001b[32m   1632\u001b[39m     compiled_cache=compiled_cache,\n\u001b[32m   (...)\u001b[39m\u001b[32m   1636\u001b[39m     linting=\u001b[38;5;28mself\u001b[39m.dialect.compiler_linting | compiler.WARN_LINTING,\n\u001b[32m   1637\u001b[39m )\n\u001b[32m-> \u001b[39m\u001b[32m1638\u001b[39m ret = \u001b[38;5;28;43mself\u001b[39;49m\u001b[43m.\u001b[49m\u001b[43m_execute_context\u001b[49m\u001b[43m(\u001b[49m\n\u001b[32m   1639\u001b[39m \u001b[43m    \u001b[49m\u001b[43mdialect\u001b[49m\u001b[43m,\u001b[49m\n\u001b[32m   1640\u001b[39m \u001b[43m    \u001b[49m\u001b[43mdialect\u001b[49m\u001b[43m.\u001b[49m\u001b[43mexecution_ctx_cls\u001b[49m\u001b[43m.\u001b[49m\u001b[43m_init_compiled\u001b[49m\u001b[43m,\u001b[49m\n\u001b[32m   1641\u001b[39m \u001b[43m    \u001b[49m\u001b[43mcompiled_sql\u001b[49m\u001b[43m,\u001b[49m\n\u001b[32m   1642\u001b[39m \u001b[43m    \u001b[49m\u001b[43mdistilled_parameters\u001b[49m\u001b[43m,\u001b[49m\n\u001b[32m   1643\u001b[39m \u001b[43m    \u001b[49m\u001b[43mexecution_options\u001b[49m\u001b[43m,\u001b[49m\n\u001b[32m   1644\u001b[39m \u001b[43m    \u001b[49m\u001b[43mcompiled_sql\u001b[49m\u001b[43m,\u001b[49m\n\u001b[32m   1645\u001b[39m \u001b[43m    \u001b[49m\u001b[43mdistilled_parameters\u001b[49m\u001b[43m,\u001b[49m\n\u001b[32m   1646\u001b[39m \u001b[43m    \u001b[49m\u001b[43melem\u001b[49m\u001b[43m,\u001b[49m\n\u001b[32m   1647\u001b[39m \u001b[43m    \u001b[49m\u001b[43mextracted_params\u001b[49m\u001b[43m,\u001b[49m\n\u001b[32m   1648\u001b[39m \u001b[43m    \u001b[49m\u001b[43mcache_hit\u001b[49m\u001b[43m=\u001b[49m\u001b[43mcache_hit\u001b[49m\u001b[43m,\u001b[49m\n\u001b[32m   1649\u001b[39m \u001b[43m\u001b[49m\u001b[43m)\u001b[49m\n\u001b[32m   1650\u001b[39m \u001b[38;5;28;01mif\u001b[39;00m has_events:\n\u001b[32m   1651\u001b[39m     \u001b[38;5;28mself\u001b[39m.dispatch.after_execute(\n\u001b[32m   1652\u001b[39m         \u001b[38;5;28mself\u001b[39m,\n\u001b[32m   1653\u001b[39m         elem,\n\u001b[32m   (...)\u001b[39m\u001b[32m   1657\u001b[39m         ret,\n\u001b[32m   1658\u001b[39m     )\n",
      "\u001b[36mFile \u001b[39m\u001b[32mc:\\Users\\DavFocus\\desktop\\ODC_GENAI-Cohorte_1\\davfocus_env\\Lib\\site-packages\\sqlalchemy\\engine\\base.py:1841\u001b[39m, in \u001b[36mConnection._execute_context\u001b[39m\u001b[34m(self, dialect, constructor, statement, parameters, execution_options, *args, **kw)\u001b[39m\n\u001b[32m   1838\u001b[39m context.pre_exec()\n\u001b[32m   1840\u001b[39m \u001b[38;5;28;01mif\u001b[39;00m context.execute_style \u001b[38;5;129;01mis\u001b[39;00m ExecuteStyle.INSERTMANYVALUES:\n\u001b[32m-> \u001b[39m\u001b[32m1841\u001b[39m     \u001b[38;5;28;01mreturn\u001b[39;00m \u001b[38;5;28;43mself\u001b[39;49m\u001b[43m.\u001b[49m\u001b[43m_exec_insertmany_context\u001b[49m\u001b[43m(\u001b[49m\u001b[43mdialect\u001b[49m\u001b[43m,\u001b[49m\u001b[43m \u001b[49m\u001b[43mcontext\u001b[49m\u001b[43m)\u001b[49m\n\u001b[32m   1842\u001b[39m \u001b[38;5;28;01melse\u001b[39;00m:\n\u001b[32m   1843\u001b[39m     \u001b[38;5;28;01mreturn\u001b[39;00m \u001b[38;5;28mself\u001b[39m._exec_single_context(\n\u001b[32m   1844\u001b[39m         dialect, context, statement, parameters\n\u001b[32m   1845\u001b[39m     )\n",
      "\u001b[36mFile \u001b[39m\u001b[32mc:\\Users\\DavFocus\\desktop\\ODC_GENAI-Cohorte_1\\davfocus_env\\Lib\\site-packages\\sqlalchemy\\engine\\base.py:2123\u001b[39m, in \u001b[36mConnection._exec_insertmany_context\u001b[39m\u001b[34m(self, dialect, context)\u001b[39m\n\u001b[32m   2115\u001b[39m         dialect.do_execute(\n\u001b[32m   2116\u001b[39m             cursor,\n\u001b[32m   2117\u001b[39m             sub_stmt,\n\u001b[32m   2118\u001b[39m             sub_params,\n\u001b[32m   2119\u001b[39m             context,\n\u001b[32m   2120\u001b[39m         )\n\u001b[32m   2122\u001b[39m \u001b[38;5;28;01mexcept\u001b[39;00m \u001b[38;5;167;01mBaseException\u001b[39;00m \u001b[38;5;28;01mas\u001b[39;00m e:\n\u001b[32m-> \u001b[39m\u001b[32m2123\u001b[39m     \u001b[38;5;28;43mself\u001b[39;49m\u001b[43m.\u001b[49m\u001b[43m_handle_dbapi_exception\u001b[49m\u001b[43m(\u001b[49m\n\u001b[32m   2124\u001b[39m \u001b[43m        \u001b[49m\u001b[43me\u001b[49m\u001b[43m,\u001b[49m\n\u001b[32m   2125\u001b[39m \u001b[43m        \u001b[49m\u001b[43msql_util\u001b[49m\u001b[43m.\u001b[49m\u001b[43m_long_statement\u001b[49m\u001b[43m(\u001b[49m\u001b[43msub_stmt\u001b[49m\u001b[43m)\u001b[49m\u001b[43m,\u001b[49m\n\u001b[32m   2126\u001b[39m \u001b[43m        \u001b[49m\u001b[43msub_params\u001b[49m\u001b[43m,\u001b[49m\n\u001b[32m   2127\u001b[39m \u001b[43m        \u001b[49m\u001b[43mcursor\u001b[49m\u001b[43m,\u001b[49m\n\u001b[32m   2128\u001b[39m \u001b[43m        \u001b[49m\u001b[43mcontext\u001b[49m\u001b[43m,\u001b[49m\n\u001b[32m   2129\u001b[39m \u001b[43m        \u001b[49m\u001b[43mis_sub_exec\u001b[49m\u001b[43m=\u001b[49m\u001b[38;5;28;43;01mTrue\u001b[39;49;00m\u001b[43m,\u001b[49m\n\u001b[32m   2130\u001b[39m \u001b[43m    \u001b[49m\u001b[43m)\u001b[49m\n\u001b[32m   2132\u001b[39m \u001b[38;5;28;01mif\u001b[39;00m engine_events:\n\u001b[32m   2133\u001b[39m     \u001b[38;5;28mself\u001b[39m.dispatch.after_cursor_execute(\n\u001b[32m   2134\u001b[39m         \u001b[38;5;28mself\u001b[39m,\n\u001b[32m   2135\u001b[39m         cursor,\n\u001b[32m   (...)\u001b[39m\u001b[32m   2139\u001b[39m         context.executemany,\n\u001b[32m   2140\u001b[39m     )\n",
      "\u001b[36mFile \u001b[39m\u001b[32mc:\\Users\\DavFocus\\desktop\\ODC_GENAI-Cohorte_1\\davfocus_env\\Lib\\site-packages\\sqlalchemy\\engine\\base.py:2352\u001b[39m, in \u001b[36mConnection._handle_dbapi_exception\u001b[39m\u001b[34m(self, e, statement, parameters, cursor, context, is_sub_exec)\u001b[39m\n\u001b[32m   2350\u001b[39m \u001b[38;5;28;01melif\u001b[39;00m should_wrap:\n\u001b[32m   2351\u001b[39m     \u001b[38;5;28;01massert\u001b[39;00m sqlalchemy_exception \u001b[38;5;129;01mis\u001b[39;00m \u001b[38;5;129;01mnot\u001b[39;00m \u001b[38;5;28;01mNone\u001b[39;00m\n\u001b[32m-> \u001b[39m\u001b[32m2352\u001b[39m     \u001b[38;5;28;01mraise\u001b[39;00m sqlalchemy_exception.with_traceback(exc_info[\u001b[32m2\u001b[39m]) \u001b[38;5;28;01mfrom\u001b[39;00m\u001b[38;5;250m \u001b[39m\u001b[34;01me\u001b[39;00m\n\u001b[32m   2353\u001b[39m \u001b[38;5;28;01melse\u001b[39;00m:\n\u001b[32m   2354\u001b[39m     \u001b[38;5;28;01massert\u001b[39;00m exc_info[\u001b[32m1\u001b[39m] \u001b[38;5;129;01mis\u001b[39;00m \u001b[38;5;129;01mnot\u001b[39;00m \u001b[38;5;28;01mNone\u001b[39;00m\n",
      "\u001b[36mFile \u001b[39m\u001b[32mc:\\Users\\DavFocus\\desktop\\ODC_GENAI-Cohorte_1\\davfocus_env\\Lib\\site-packages\\sqlalchemy\\engine\\base.py:2115\u001b[39m, in \u001b[36mConnection._exec_insertmany_context\u001b[39m\u001b[34m(self, dialect, context)\u001b[39m\n\u001b[32m   2113\u001b[39m             \u001b[38;5;28;01mbreak\u001b[39;00m\n\u001b[32m   2114\u001b[39m     \u001b[38;5;28;01melse\u001b[39;00m:\n\u001b[32m-> \u001b[39m\u001b[32m2115\u001b[39m         \u001b[43mdialect\u001b[49m\u001b[43m.\u001b[49m\u001b[43mdo_execute\u001b[49m\u001b[43m(\u001b[49m\n\u001b[32m   2116\u001b[39m \u001b[43m            \u001b[49m\u001b[43mcursor\u001b[49m\u001b[43m,\u001b[49m\n\u001b[32m   2117\u001b[39m \u001b[43m            \u001b[49m\u001b[43msub_stmt\u001b[49m\u001b[43m,\u001b[49m\n\u001b[32m   2118\u001b[39m \u001b[43m            \u001b[49m\u001b[43msub_params\u001b[49m\u001b[43m,\u001b[49m\n\u001b[32m   2119\u001b[39m \u001b[43m            \u001b[49m\u001b[43mcontext\u001b[49m\u001b[43m,\u001b[49m\n\u001b[32m   2120\u001b[39m \u001b[43m        \u001b[49m\u001b[43m)\u001b[49m\n\u001b[32m   2122\u001b[39m \u001b[38;5;28;01mexcept\u001b[39;00m \u001b[38;5;167;01mBaseException\u001b[39;00m \u001b[38;5;28;01mas\u001b[39;00m e:\n\u001b[32m   2123\u001b[39m     \u001b[38;5;28mself\u001b[39m._handle_dbapi_exception(\n\u001b[32m   2124\u001b[39m         e,\n\u001b[32m   2125\u001b[39m         sql_util._long_statement(sub_stmt),\n\u001b[32m   (...)\u001b[39m\u001b[32m   2129\u001b[39m         is_sub_exec=\u001b[38;5;28;01mTrue\u001b[39;00m,\n\u001b[32m   2130\u001b[39m     )\n",
      "\u001b[36mFile \u001b[39m\u001b[32mc:\\Users\\DavFocus\\desktop\\ODC_GENAI-Cohorte_1\\davfocus_env\\Lib\\site-packages\\sqlalchemy\\engine\\default.py:945\u001b[39m, in \u001b[36mDefaultDialect.do_execute\u001b[39m\u001b[34m(self, cursor, statement, parameters, context)\u001b[39m\n\u001b[32m    944\u001b[39m \u001b[38;5;28;01mdef\u001b[39;00m\u001b[38;5;250m \u001b[39m\u001b[34mdo_execute\u001b[39m(\u001b[38;5;28mself\u001b[39m, cursor, statement, parameters, context=\u001b[38;5;28;01mNone\u001b[39;00m):\n\u001b[32m--> \u001b[39m\u001b[32m945\u001b[39m     \u001b[43mcursor\u001b[49m\u001b[43m.\u001b[49m\u001b[43mexecute\u001b[49m\u001b[43m(\u001b[49m\u001b[43mstatement\u001b[49m\u001b[43m,\u001b[49m\u001b[43m \u001b[49m\u001b[43mparameters\u001b[49m\u001b[43m)\u001b[49m\n",
      "\u001b[31mOperationalError\u001b[39m: (sqlite3.OperationalError) no such column: _id\n[SQL: INSERT INTO user (name, fullname, created_at) VALUES (?, ?, ?) RETURNING _id]\n[parameters: ('Koffi', 'Aya Sandrine', '2025-05-14 02:05:40.595969')]\n(Background on this error at: https://sqlalche.me/e/20/e3q8)"
     ]
    }
   ],
   "source": [
    "with Session(engine) as session:\n",
    "    user_1 = User(\n",
    "        name=\"Koffi\",\n",
    "        fullname=\"Aya Sandrine\",\n",
    "        addresses=[\n",
    "            Address(email=\"sandrine.koffi@data354.co\"),\n",
    "            Address(email=\"sandrine@orange.ci\"),\n",
    "        ],\n",
    "    )\n",
    "\n",
    "    user_2 = User(name=\"Koné\", fullname=\"Patrick\", addresses=[])\n",
    "\n",
    "    session.add_all([user_1, user_2])\n",
    "    session.commit()"
   ]
  },
  {
   "cell_type": "markdown",
   "metadata": {
    "id": "Fas8QEun1oUw"
   },
   "source": [
    "- Insérer dans la table `Address l'adresse de Koné Patrique: email = patrick.kone@gmail.com.\n"
   ]
  },
  {
   "cell_type": "code",
   "execution_count": null,
   "metadata": {
    "id": "AOtAS__E19nN"
   },
   "outputs": [],
   "source": [
    "# code ici"
   ]
  },
  {
   "cell_type": "markdown",
   "metadata": {
    "id": "bdRjB9zr2Kyu"
   },
   "source": [
    "#### Lecture"
   ]
  },
  {
   "cell_type": "code",
   "execution_count": null,
   "metadata": {
    "colab": {
     "base_uri": "https://localhost:8080/"
    },
    "executionInfo": {
     "elapsed": 27,
     "status": "ok",
     "timestamp": 1746673497294,
     "user": {
      "displayName": "Monsia DOUGBAN",
      "userId": "10610202925495594720"
     },
     "user_tz": 0
    },
    "id": "yVyMZvSc2NgY",
    "outputId": "20435f7c-035c-4401-aa45-8e13ed8e8496"
   },
   "outputs": [],
   "source": [
    "koffi = session.query(User).filter_by(name=\"Koffi\").first()\n",
    "print(koffi)"
   ]
  },
  {
   "cell_type": "markdown",
   "metadata": {
    "id": "c2hyFBTc2uSL"
   },
   "source": [
    "- Lire les informations de Koné les affecter dans la variable kone."
   ]
  },
  {
   "cell_type": "code",
   "execution_count": null,
   "metadata": {
    "id": "3AHBaLlL28oO"
   },
   "outputs": [],
   "source": [
    "# code ici"
   ]
  },
  {
   "cell_type": "markdown",
   "metadata": {
    "id": "SqAaop5x3ADT"
   },
   "source": [
    "#### Mise à Jour"
   ]
  },
  {
   "cell_type": "code",
   "execution_count": null,
   "metadata": {
    "id": "CqCTzp143B_c"
   },
   "outputs": [],
   "source": [
    "koffi.fullname = f\"{koffi.fullname} Stéphanie\"\n",
    "session.commit()"
   ]
  },
  {
   "cell_type": "code",
   "execution_count": null,
   "metadata": {
    "colab": {
     "base_uri": "https://localhost:8080/"
    },
    "executionInfo": {
     "elapsed": 38,
     "status": "ok",
     "timestamp": 1746673674543,
     "user": {
      "displayName": "Monsia DOUGBAN",
      "userId": "10610202925495594720"
     },
     "user_tz": 0
    },
    "id": "JtZvQo_Q3Q7l",
    "outputId": "79f9addf-94a6-478d-de7a-8a045da6b928"
   },
   "outputs": [],
   "source": [
    "koffi = session.query(User).filter_by(name=\"Koffi\").first()\n",
    "print(koffi)"
   ]
  },
  {
   "cell_type": "markdown",
   "metadata": {
    "id": "dQzmEwmL3VDu"
   },
   "source": [
    "- Mettre à jour l'adresse de Patrick"
   ]
  },
  {
   "cell_type": "code",
   "execution_count": null,
   "metadata": {
    "id": "tByvgn023Uaa"
   },
   "outputs": [],
   "source": [
    "# code ici"
   ]
  },
  {
   "cell_type": "markdown",
   "metadata": {
    "id": "TIS01he-3cGM"
   },
   "source": [
    "#### Suppression"
   ]
  },
  {
   "cell_type": "code",
   "execution_count": null,
   "metadata": {
    "id": "T_U4v8OS3fS6"
   },
   "outputs": [],
   "source": [
    "session.delete(koffi)\n",
    "session.commit()"
   ]
  },
  {
   "cell_type": "markdown",
   "metadata": {
    "id": "N5o1TMom4XCu"
   },
   "source": [
    "- Supprimer l'utilisateur Patrick"
   ]
  },
  {
   "cell_type": "code",
   "execution_count": null,
   "metadata": {
    "id": "I_556YN_4dBp"
   },
   "outputs": [],
   "source": [
    "# code ici"
   ]
  },
  {
   "cell_type": "markdown",
   "metadata": {
    "id": "0srGgJro5VlW"
   },
   "source": [
    "### Exercice\n",
    "\n",
    "1. Créer un module `database.py` qui contiendra les configuration de connexion à la base de données.\n",
    "2. Modeliser la base de données ci-dessous dans un module `models.py`\n",
    "3. Effectuer les operation de CRUD dans un interpréteur python\n",
    "\n",
    "#### Table `Client`\n",
    "\n",
    "| ID_Client | Nom        | Prénom  | Email                     | Téléphone     | Adresse                          |\n",
    "|-----------|------------|---------|---------------------------|---------------|----------------------------------|\n",
    "| 1         | Dupont     | Jean    | jean.dupont@email.com     | 0612345678    | 12 Rue de la Paix, Paris         |\n",
    "| 2         | Martin     | Sophie  | sophie.martin@email.com   | 0698765432    | 25 Avenue des Champs, Lyon       |\n",
    "| 3         | Leroy      | Pierre  | pierre.leroy@email.com    | 0687654321    | 8 Boulevard Voltaire, Marseille  |\n",
    "| 4         | Dubois     | Marie   | marie.dubois@email.com    | 0678912345    | 15 Rue du Commerce, Lille        |\n",
    "| 5         | Bernard    | Thomas  | thomas.bernard@email.com  | 0632145698    | 42 Avenue Foch, Bordeaux         |\n",
    "| 6         | Petit      | Alice   | alice.petit@email.com     | 0698745632    | 7 Rue de la République, Nantes   |\n",
    "| 7         | Moreau     | Julien  | julien.moreau@email.com   | 0654789123    | 33 Rue Victor Hugo, Toulouse     |\n",
    "| 8         | Laurent    | Camille | camille.laurent@email.com | 0645897123    | 19 Boulevard Gambetta, Nice      |\n",
    "| 9         | Simon      | Luc     | luc.simon@email.com       | 0678451296    | 5 Rue Pasteur, Strasbourg        |\n",
    "| 10        | Michel     | Élodie  | elodie.michel@email.com   | 0696325418    | 22 Avenue Jean Jaurès, Montpellier |\n",
    "\n",
    "#### Table `Produit`\n",
    "\n",
    "| ID_Produit | Nom_Produit          | Catégorie       | Prix    | Stock |\n",
    "|------------|----------------------|-----------------|---------|-------|\n",
    "| 101        | Ordinateur Portable  | Informatique    | 899.99  | 50    |\n",
    "| 102        | Smartphone Pro       | Électronique    | 699.99  | 100   |\n",
    "| 103        | Roman Best-Seller    | Livres          | 19.99   | 200   |\n",
    "| 104        | Casque Bluetooth     | Audio           | 129.99  | 75    |\n",
    "| 105        | Montre Connectée     | Accessoires     | 249.99  | 60    |\n",
    "| 106        | Cafetière Électrique | Électroménager  | 59.99   | 120   |\n",
    "| 107        | Sac à Dos            | Mode            | 39.99   | 150   |\n",
    "| 108        | Enceinte Portable    | Audio           | 89.99   | 80    |\n",
    "| 109        | Baskets de Sport     | Chaussures      | 79.99   | 90    |\n",
    "| 110        | Écran 24\"            | Informatique    | 179.99  | 40    |\n",
    "\n",
    "#### Table `Commande`\n",
    "\n",
    "| ID_Commande | ID_Client | Date_Commande  | Montant_Total | Statut       |\n",
    "|-------------|-----------|----------------|---------------|--------------|\n",
    "| 1001        | 3         | 2023-05-15     | 919.98        | Livré        |\n",
    "| 1002        | 7         | 2023-05-16     | 249.99        | Expédié      |\n",
    "| 1003        | 1         | 2023-05-17     | 129.99        | En préparation |\n",
    "| 1004        | 5         | 2023-05-18     | 59.99         | Livré        |\n",
    "| 1005        | 2         | 2023-05-19     | 699.99        | Expédié      |\n",
    "| 1006        | 10         | 2023-05-20     | 179.99        | En attente   |\n",
    "| 1007        | 3         | 2023-05-21     | 39.99         | Livré        |\n",
    "| 1008        | 3         | 2023-05-22     | 89.99         | Expédié      |\n",
    "| 1009        | 6         | 2023-05-23     | 79.99         | En préparation |\n",
    "| 1010        | 10        | 2023-05-24     | 199.98        | En attente   |\n",
    "\n",
    "## Table `Ligne_Commande` (optionnelle)\n",
    "\n",
    "| ID_Ligne | ID_Commande | ID_Produit | Quantité | Prix_Unitaire |\n",
    "|----------|-------------|------------|----------|---------------|\n",
    "| 1        | 1001        | 101        | 1        | 899.99        |\n",
    "| 2        | 1001        | 107        | 1        | 39.99         |\n",
    "| 3        | 1002        | 105        | 1        | 249.99        |\n",
    "| 4        | 1003        | 104        | 1        | 129.99        |\n",
    "| 5        | 1004        | 106        | 1        | 59.99         |\n",
    "| 6        | 1005        | 102        | 1        | 699.99        |\n",
    "| 7        | 1006        | 110        | 1        | 179.99        |\n",
    "| 8        | 1007        | 107        | 1        | 39.99         |\n",
    "| 9        | 1008        | 108        | 1        | 89.99         |\n",
    "| 10       | 1009        | 109        | 1        | 79.99         |"
   ]
  },
  {
   "cell_type": "code",
   "execution_count": null,
   "metadata": {
    "id": "O-XrYrmaJ7c2"
   },
   "outputs": [],
   "source": []
  }
 ],
 "metadata": {
  "colab": {
   "collapsed_sections": [
    "flWyCy7ECRBS",
    "A3cXax0-k9K2",
    "F7eKhUMNE_GQ",
    "kyIzrjoGH9t_",
    "TxgHks4FjEi3"
   ],
   "provenance": [
    {
     "file_id": "1HbVmcu_-QGqiokR-NYI1VSuucmtfuesY",
     "timestamp": 1746703873772
    }
   ]
  },
  "kernelspec": {
   "display_name": "davfocus_env",
   "language": "python",
   "name": "python3"
  },
  "language_info": {
   "codemirror_mode": {
    "name": "ipython",
    "version": 3
   },
   "file_extension": ".py",
   "mimetype": "text/x-python",
   "name": "python",
   "nbconvert_exporter": "python",
   "pygments_lexer": "ipython3",
   "version": "3.12.6"
  }
 },
 "nbformat": 4,
 "nbformat_minor": 0
}
